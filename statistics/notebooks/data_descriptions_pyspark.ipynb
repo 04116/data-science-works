{
 "cells": [
  {
   "cell_type": "markdown",
   "metadata": {},
   "source": [
    "# Mô tả dữ liệu\n",
    "- Dataset: Dresses_Attribute_Sales\n",
    "- Link: https://archive.ics.uci.edu/ml/datasets/Dresses_Attribute_Sales\n",
    "- Associated Tasks: Classification, Clustering\n",
    "- Number of Instances: 1000\n",
    "- Number of Attributes: 7"
   ]
  },
  {
   "cell_type": "code",
   "execution_count": 1,
   "metadata": {
    "collapsed": true
   },
   "outputs": [],
   "source": [
    "# import all necessary library\n",
    "import pandas as pd\n",
    "from pyspark.sql import SparkSession\n",
    "import matplotlib.pyplot as plt"
   ]
  },
  {
   "cell_type": "code",
   "execution_count": null,
   "metadata": {
    "collapsed": true
   },
   "outputs": [],
   "source": [
    "# initialize Spark\n",
    "spark = SparkSession.builder \\\n",
    ".master(\"local[2]\") \\\n",
    ".appName(\"Data description\") \\\n",
    ".getOrCreate()"
   ]
  },
  {
   "cell_type": "code",
   "execution_count": null,
   "metadata": {},
   "outputs": [
    {
     "name": "stdout",
     "output_type": "stream",
     "text": [
      "+--------+---------+------+-----+------+------+--------------+\n",
      "|dress_id|    color|gender|price|rating|amount|recommendation|\n",
      "+--------+---------+------+-----+------+------+--------------+\n",
      "|       1|   Orange|  Male| 10.7|     1|     5|             1|\n",
      "|       2|   Orange|Female|97.61|     3|    14|             1|\n",
      "|       3|      Red|Female|79.95|     0|    81|             0|\n",
      "|       4|    Green|Female|37.87|     3|     2|             0|\n",
      "|       5|   Indigo|  Male|74.47|     0|    94|             1|\n",
      "|       6|   Violet|Female|18.23|     0|    28|             1|\n",
      "|       7|     Blue|Female|94.54|     3|    83|             0|\n",
      "|       8|   Purple|Female|88.45|     0|    63|             1|\n",
      "|       9|   Yellow|  Male|21.79|     5|    82|             1|\n",
      "|      10|Turquoise|Female|96.51|     5|    49|             1|\n",
      "+--------+---------+------+-----+------+------+--------------+\n",
      "only showing top 10 rows\n",
      "\n"
     ]
    }
   ],
   "source": [
    "# reading dataset to dataframe\n",
    "pandas_mock = pd.read_csv(\"MOCK_TYPES_OF_DATA.csv\")\n",
    "df_dresses_attribute_sales = spark.read \\\n",
    "                                .format(\"com.databricks.spark.csv\") \\\n",
    "                                .option(\"header\", \"true\") \\\n",
    "                                .load(\"MOCK_TYPES_OF_DATA.csv\")\n",
    "df_dresses_attribute_sales.show(10)"
   ]
  },
  {
   "cell_type": "markdown",
   "metadata": {},
   "source": [
    "# Các loại dữ liệu\n",
    "- Nomial\n",
    "- Numbers\n",
    "- Odinal\n",
    "- Ratio"
   ]
  },
  {
   "cell_type": "code",
   "execution_count": null,
   "metadata": {},
   "outputs": [
    {
     "name": "stdout",
     "output_type": "stream",
     "text": [
      "+------+------+\n",
      "| color|gender|\n",
      "+------+------+\n",
      "|Orange|  Male|\n",
      "|Orange|Female|\n",
      "|   Red|Female|\n",
      "| Green|Female|\n",
      "|Indigo|  Male|\n",
      "+------+------+\n",
      "only showing top 5 rows\n",
      "\n"
     ]
    }
   ],
   "source": [
    "# Nomial\n",
    "df_nomial = df_dresses_attribute_sales[[\"color\", \"gender\"]]\n",
    "df_nomial.show(5)"
   ]
  },
  {
   "cell_type": "code",
   "execution_count": null,
   "metadata": {},
   "outputs": [
    {
     "name": "stdout",
     "output_type": "stream",
     "text": [
      "+-----+\n",
      "|price|\n",
      "+-----+\n",
      "| 10.7|\n",
      "|97.61|\n",
      "|79.95|\n",
      "|37.87|\n",
      "|74.47|\n",
      "+-----+\n",
      "only showing top 5 rows\n",
      "\n"
     ]
    }
   ],
   "source": [
    "# Numbers\n",
    "df_numbers = df_dresses_attribute_sales[[\"price\"]]\n",
    "df_numbers.show(5)"
   ]
  },
  {
   "cell_type": "code",
   "execution_count": null,
   "metadata": {},
   "outputs": [
    {
     "name": "stdout",
     "output_type": "stream",
     "text": [
      "+--------+------+\n",
      "|dress_id|rating|\n",
      "+--------+------+\n",
      "|       1|     1|\n",
      "|       2|     3|\n",
      "|       3|     0|\n",
      "|       4|     3|\n",
      "|       5|     0|\n",
      "+--------+------+\n",
      "only showing top 5 rows\n",
      "\n"
     ]
    }
   ],
   "source": [
    "# Ordinal\n",
    "df_ordinal = df_dresses_attribute_sales[[\"dress_id\", \"rating\"]]\n",
    "df_ordinal.show(5)"
   ]
  },
  {
   "cell_type": "code",
   "execution_count": null,
   "metadata": {},
   "outputs": [
    {
     "name": "stdout",
     "output_type": "stream",
     "text": [
      "+------+\n",
      "|amount|\n",
      "+------+\n",
      "|     5|\n",
      "|    14|\n",
      "|    81|\n",
      "|     2|\n",
      "|    94|\n",
      "+------+\n",
      "only showing top 5 rows\n",
      "\n"
     ]
    }
   ],
   "source": [
    "# ratio\n",
    "df_ratio = df_dresses_attribute_sales[[\"amount\"]]\n",
    "df_ratio.show(5)"
   ]
  },
  {
   "cell_type": "markdown",
   "metadata": {},
   "source": [
    "# Trung tâm của tập dữ liệu\n",
    "- Trung bình (mean)\n",
    "- Trung bình có trọng số (weighted mean)\n",
    "- Trung vị (median)\n",
    "- Mode"
   ]
  },
  {
   "cell_type": "code",
   "execution_count": null,
   "metadata": {},
   "outputs": [
    {
     "name": "stdout",
     "output_type": "stream",
     "text": [
      "+-------+----------+------+\n",
      "|summary|     color|gender|\n",
      "+-------+----------+------+\n",
      "|  count|      1000|  1000|\n",
      "|   mean|      null|  null|\n",
      "| stddev|      null|  null|\n",
      "|    min|Aquamarine|Female|\n",
      "|    max|    Yellow|  Male|\n",
      "+-------+----------+------+\n",
      "\n"
     ]
    }
   ],
   "source": [
    "df_nomial.describe().show()"
   ]
  },
  {
   "cell_type": "code",
   "execution_count": null,
   "metadata": {},
   "outputs": [
    {
     "name": "stdout",
     "output_type": "stream",
     "text": [
      "+-------+------------------+\n",
      "|summary|             price|\n",
      "+-------+------------------+\n",
      "|  count|              1000|\n",
      "|   mean| 49.79646999999999|\n",
      "| stddev|28.617753350777654|\n",
      "|    min|              1.15|\n",
      "|    max|             99.89|\n",
      "+-------+------------------+\n",
      "\n"
     ]
    }
   ],
   "source": [
    "df_numbers.describe().show()"
   ]
  },
  {
   "cell_type": "code",
   "execution_count": null,
   "metadata": {},
   "outputs": [
    {
     "name": "stdout",
     "output_type": "stream",
     "text": [
      "+-------+-----------------+------------------+\n",
      "|summary|         dress_id|            rating|\n",
      "+-------+-----------------+------------------+\n",
      "|  count|             1000|              1000|\n",
      "|   mean|            500.5|              2.44|\n",
      "| stddev|288.8194360957494|1.6754722340902006|\n",
      "|    min|                1|                 0|\n",
      "|    max|              999|                 5|\n",
      "+-------+-----------------+------------------+\n",
      "\n"
     ]
    }
   ],
   "source": [
    "df_ordinal.describe().show()"
   ]
  },
  {
   "cell_type": "code",
   "execution_count": null,
   "metadata": {},
   "outputs": [
    {
     "name": "stdout",
     "output_type": "stream",
     "text": [
      "+-------+-----------------+\n",
      "|summary|           amount|\n",
      "+-------+-----------------+\n",
      "|  count|             1000|\n",
      "|   mean|           49.173|\n",
      "| stddev|28.36966529427001|\n",
      "|    min|                1|\n",
      "|    max|               99|\n",
      "+-------+-----------------+\n",
      "\n"
     ]
    }
   ],
   "source": [
    "df_ratio.describe().show()"
   ]
  },
  {
   "cell_type": "code",
   "execution_count": null,
   "metadata": {},
   "outputs": [
    {
     "name": "stdout",
     "output_type": "stream",
     "text": [
      "Mean: 49.7964700284\n"
     ]
    }
   ],
   "source": [
    "# calculate on rating column\n",
    "col_price = df_dresses_attribute_sales.select(df_dresses_attribute_sales.price.cast(\"float\"))\n",
    "count = df_dresses_attribute_sales.count()\n",
    "\n",
    "# mean\n",
    "sum = col_price.groupBy().sum(\"price\").collect()[0][0]\n",
    "mean_price = sum * 1.0 / count\n",
    "print \"Mean:\", mean_price"
   ]
  },
  {
   "cell_type": "code",
   "execution_count": null,
   "metadata": {},
   "outputs": [
    {
     "name": "stdout",
     "output_type": "stream",
     "text": [
      "Weighted mean: 48.9804877049\n"
     ]
    }
   ],
   "source": [
    "# weighted mean\n",
    "col_rating = df_dresses_attribute_sales.select(df_dresses_attribute_sales.rating.cast(\"int\"))\n",
    "\n",
    "weight = col_rating\n",
    "total_weight = col_rating.groupBy().sum(\"rating\").collect()[0][0]\n",
    "\n",
    "product = df_dresses_attribute_sales.select((df_dresses_attribute_sales.price * df_dresses_attribute_sales.rating).alias(\"product\"))\n",
    "product = product.groupBy().sum(\"product\").collect()[0][0]\n",
    "\n",
    "weighted_mean = product * 1.0 / total_weight\n",
    "print \"Weighted mean:\", weighted_mean"
   ]
  },
  {
   "cell_type": "code",
   "execution_count": null,
   "metadata": {},
   "outputs": [
    {
     "name": "stdout",
     "output_type": "stream",
     "text": [
      "Median: 55.2099990845\n"
     ]
    }
   ],
   "source": [
    "# median\n",
    "sorted_price = df_dresses_attribute_sales.sort(\"price\").select(df_dresses_attribute_sales.price.cast(\"float\"))\n",
    "median_pos = count / 2\n",
    "median_price = sorted_price.collect()[median_pos][0]\n",
    "print \"Median:\", median_price"
   ]
  },
  {
   "cell_type": "code",
   "execution_count": null,
   "metadata": {},
   "outputs": [
    {
     "name": "stdout",
     "output_type": "stream",
     "text": [
      "Mode: 21.9799995422\n"
     ]
    }
   ],
   "source": [
    "# mode\n",
    "price_distribution = {}\n",
    "for row in col_price.rdd.collect():\n",
    "    val = row[0]\n",
    "    if val not in price_distribution.keys():\n",
    "        price_distribution[val] = 1\n",
    "    else:\n",
    "        price_distribution[val] += 1\n",
    "        \n",
    "mode_price = 0\n",
    "num_repeat = 0\n",
    "for key in price_distribution:\n",
    "    if num_repeat < price_distribution[key]:\n",
    "        num_repeat = price_distribution[key]\n",
    "        mode_price = key\n",
    "        \n",
    "print \"Mode:\", mode_price"
   ]
  },
  {
   "cell_type": "code",
   "execution_count": null,
   "metadata": {},
   "outputs": [
    {
     "data": {
      "image/png": "[encoded data removed]",
      "text/plain": [
       "<matplotlib.figure.Figure at 0x10bbcbf90>"
      ]
     },
     "metadata": {},
     "output_type": "display_data"
    }
   ],
   "source": [
    "# visualize price column\n",
    "fig, ax = plt.subplots()\n",
    "ax.axvline(mean_price, color='blue', linewidth=2)\n",
    "ax.axvline(median_price, color='green', linewidth=2)\n",
    "# ax.axvline(col_price.median(), color='green', linewidth=2)\n",
    "\n",
    "# plt.hist(col_price.toPandas[\"price\"], bins=70)\n",
    "plt.title(\"Price Histogram\")\n",
    "plt.xlabel(\"Price\")\n",
    "plt.ylabel(\"Frequency\")\n",
    "plt.show()"
   ]
  },
  {
   "cell_type": "markdown",
   "metadata": {},
   "source": [
    "# Dữ liệu biến đổi\n",
    "- Khoảng đoạn (range)\n",
    "- Phương sai (variance)\n",
    "- Độ lệch chuẩn (standard deviation)\n",
    "- Ngoại lai (outlier)\n",
    "- Z-score\n",
    "- Nguyên lý thực nghiệm\n",
    "- Phân vị (percentile)"
   ]
  },
  {
   "cell_type": "code",
   "execution_count": null,
   "metadata": {},
   "outputs": [
    {
     "ename": "AttributeError",
     "evalue": "'DataFrame' object has no attribute 'max'",
     "output_type": "error",
     "traceback": [
      "\u001b[0;31m---------------------------------------------------------------------------\u001b[0m",
      "\u001b[0;31mAttributeError\u001b[0m                            Traceback (most recent call last)",
      "\u001b[0;32m<ipython-input-17-b53bbb9da9ac>\u001b[0m in \u001b[0;36m<module>\u001b[0;34m()\u001b[0m\n\u001b[1;32m      1\u001b[0m \u001b[0;31m# range of price = max_price - min_price\u001b[0m\u001b[0;34m\u001b[0m\u001b[0;34m\u001b[0m\u001b[0m\n\u001b[0;32m----> 2\u001b[0;31m \u001b[0mmax_price\u001b[0m \u001b[0;34m=\u001b[0m \u001b[0mcol_price\u001b[0m\u001b[0;34m.\u001b[0m\u001b[0mmax\u001b[0m\u001b[0;34m(\u001b[0m\u001b[0;34m)\u001b[0m\u001b[0;34m\u001b[0m\u001b[0m\n\u001b[0m\u001b[1;32m      3\u001b[0m \u001b[0mmin_price\u001b[0m \u001b[0;34m=\u001b[0m \u001b[0mcol_price\u001b[0m\u001b[0;34m.\u001b[0m\u001b[0mmin\u001b[0m\u001b[0;34m(\u001b[0m\u001b[0;34m)\u001b[0m\u001b[0;34m\u001b[0m\u001b[0m\n\u001b[1;32m      4\u001b[0m \u001b[0mrange_price\u001b[0m \u001b[0;34m=\u001b[0m \u001b[0mmax_price\u001b[0m \u001b[0;34m-\u001b[0m \u001b[0mmin_price\u001b[0m\u001b[0;34m\u001b[0m\u001b[0m\n\u001b[1;32m      5\u001b[0m \u001b[0;32mprint\u001b[0m \u001b[0;34m\"Min price:\"\u001b[0m\u001b[0;34m,\u001b[0m \u001b[0mmin_price\u001b[0m\u001b[0;34m\u001b[0m\u001b[0m\n",
      "\u001b[0;32m/usr/local/Cellar/apache-spark/2.2.0/libexec/python/pyspark/sql/dataframe.pyc\u001b[0m in \u001b[0;36m__getattr__\u001b[0;34m(self, name)\u001b[0m\n\u001b[1;32m   1018\u001b[0m         \u001b[0;32mif\u001b[0m \u001b[0mname\u001b[0m \u001b[0;32mnot\u001b[0m \u001b[0;32min\u001b[0m \u001b[0mself\u001b[0m\u001b[0;34m.\u001b[0m\u001b[0mcolumns\u001b[0m\u001b[0;34m:\u001b[0m\u001b[0;34m\u001b[0m\u001b[0m\n\u001b[1;32m   1019\u001b[0m             raise AttributeError(\n\u001b[0;32m-> 1020\u001b[0;31m                 \"'%s' object has no attribute '%s'\" % (self.__class__.__name__, name))\n\u001b[0m\u001b[1;32m   1021\u001b[0m         \u001b[0mjc\u001b[0m \u001b[0;34m=\u001b[0m \u001b[0mself\u001b[0m\u001b[0;34m.\u001b[0m\u001b[0m_jdf\u001b[0m\u001b[0;34m.\u001b[0m\u001b[0mapply\u001b[0m\u001b[0;34m(\u001b[0m\u001b[0mname\u001b[0m\u001b[0;34m)\u001b[0m\u001b[0;34m\u001b[0m\u001b[0m\n\u001b[1;32m   1022\u001b[0m         \u001b[0;32mreturn\u001b[0m \u001b[0mColumn\u001b[0m\u001b[0;34m(\u001b[0m\u001b[0mjc\u001b[0m\u001b[0;34m)\u001b[0m\u001b[0;34m\u001b[0m\u001b[0m\n",
      "\u001b[0;31mAttributeError\u001b[0m: 'DataFrame' object has no attribute 'max'"
     ]
    }
   ],
   "source": [
    "# range of price = max_price - min_price\n",
    "max_price = col_price.max()\n",
    "min_price = col_price.min()\n",
    "range_price = max_price - min_price\n",
    "print \"Min price:\", min_price\n",
    "print \"Max price:\", max_price\n",
    "print \"Price range:\", range_price"
   ]
  },
  {
   "cell_type": "code",
   "execution_count": null,
   "metadata": {
    "collapsed": true
   },
   "outputs": [],
   "source": [
    "# variance of price\n",
    "mean_price = col_price.mean()\n",
    "var_price = col_price.var()\n",
    "print \"Price variance:\", var_price"
   ]
  },
  {
   "cell_type": "markdown",
   "metadata": {},
   "source": [
    "# Phân bố của xác suất\n",
    "Xác suất (probability)\n",
    "\n",
    "Phép đếm hoán vị (permutation)\n",
    "\n",
    "Phép đếm tổ hợp (combination)\n",
    "\n",
    "Xác suất có điều kiện (conditional probability)\n",
    "\n",
    "Biến ngẫu nhiên (random variable)\n",
    "\n",
    "Biến độc lập và biến phụ thuộc (independent/dependent variable)\n",
    "\n",
    "Bayes"
   ]
  },
  {
   "cell_type": "markdown",
   "metadata": {},
   "source": [
    "# Phân bố xác suất của biến rời rạc (discrete probability distribution)\n",
    "\n",
    "Trung vị (mean)\n",
    "\n",
    "Độ lệch chuẩn (standard deviation)\n",
    "\n",
    "Phân bố nhị phân (binomial distribution)"
   ]
  },
  {
   "cell_type": "markdown",
   "metadata": {},
   "source": [
    "# Phân bố xác suất của biến liên tục (continuous probability distribution)\n",
    "\n",
    "Định lý giới hạn trung tâm (central limit theorem)\n",
    "\n",
    "Phép biến đổi Z"
   ]
  },
  {
   "cell_type": "code",
   "execution_count": null,
   "metadata": {
    "collapsed": true
   },
   "outputs": [],
   "source": []
  }
 ],
 "metadata": {
  "kernelspec": {
   "display_name": "Python 2",
   "language": "python",
   "name": "python2"
  }
 },
 "nbformat": 4,
 "nbformat_minor": 2
}
