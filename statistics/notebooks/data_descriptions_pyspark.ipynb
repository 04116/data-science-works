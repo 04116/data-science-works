{
 "cells": [
  {
   "cell_type": "markdown",
   "metadata": {},
   "source": [
    "# Mô tả dữ liệu\n",
    "- Dataset: [Dresses_Attribute_Sales](https://archive.ics.uci.edu/ml/datasets/Dresses_Attribute_Sales)\n",
    "- Associated Tasks: Classification, Clustering"
   ]
  },
  {
   "cell_type": "code",
   "execution_count": 1,
   "metadata": {
    "collapsed": true
   },
   "outputs": [],
   "source": [
    "# import all necessary library\n",
    "import pandas as pd\n",
    "import numpy as np\n",
    "from pyspark.sql import SparkSession\n",
    "from pyspark.sql import functions as F\n",
    "from pyspark.sql.types import *\n",
    "import matplotlib.pyplot as plt"
   ]
  },
  {
   "cell_type": "code",
   "execution_count": 2,
   "metadata": {
    "collapsed": true
   },
   "outputs": [],
   "source": [
    "# initialize Spark\n",
    "spark = SparkSession.builder \\\n",
    "                .master(\"local\") \\\n",
    "                .appName(\"Data description Spark\") \\\n",
    "                .getOrCreate()"
   ]
  },
  {
   "cell_type": "code",
   "execution_count": 3,
   "metadata": {},
   "outputs": [
    {
     "name": "stdout",
     "output_type": "stream",
     "text": [
      "+----------+-------+-------+------+----+------+--------+------------+---------+-------------+----------+----------+------------+--------------+\n",
      "|  Dress_ID|  Style|  Price|Rating|Size|Season|NeckLine|SleeveLength|waiseline|     Material|FabricType|Decoration|Pattern Type|Recommendation|\n",
      "+----------+-------+-------+------+----+------+--------+------------+---------+-------------+----------+----------+------------+--------------+\n",
      "|1006032852|   Sexy|    Low|   4.6|   M|Summer|  o-neck|   sleevless|   empire|         null|   chiffon|   ruffles|      animal|             1|\n",
      "|1212192089| Casual|    Low|   0.0|   L|Summer|  o-neck|       Petal|  natural|   microfiber|      null|   ruffles|      animal|             0|\n",
      "|1190380701|vintage|   High|   0.0|   L|Automn|  o-neck|        full|  natural|     polyster|      null|      null|       print|             0|\n",
      "| 966005983|  Brief|Average|   4.6|   L|Spring|  o-neck|        full|  natural|         silk|   chiffon|embroidary|       print|             1|\n",
      "| 876339541|   cute|    Low|   4.5|   M|Summer|  o-neck|   butterfly|  natural|chiffonfabric|   chiffon|       bow|         dot|             0|\n",
      "+----------+-------+-------+------+----+------+--------+------------+---------+-------------+----------+----------+------------+--------------+\n",
      "only showing top 5 rows\n",
      "\n"
     ]
    }
   ],
   "source": [
    "# reading dataset to dataframe\n",
    "schema = StructType([\n",
    "    StructField(\"Dress_ID\", StringType(), True),\n",
    "    StructField(\"Style\", StringType(), True),\n",
    "    StructField(\"Price\", StringType(), True),\n",
    "    StructField(\"Rating\", FloatType(), True),\n",
    "    StructField(\"Size\", StringType(), True),\n",
    "    StructField(\"Season\", StringType(), True),\n",
    "    StructField(\"NeckLine\", StringType(), True),\n",
    "    StructField(\"SleeveLength\", StringType(), True),\n",
    "    StructField(\"waiseline\", StringType(), True),\n",
    "    StructField(\"Material\", StringType(), True),\n",
    "    StructField(\"FabricType\", StringType(), True),\n",
    "    StructField(\"Decoration\", StringType(), True),\n",
    "    StructField(\"Pattern Type\", StringType(), True),\n",
    "    StructField(\"Recommendation\", IntegerType(), True)])\n",
    "\n",
    "df = spark.read \\\n",
    "        .schema(schema) \\\n",
    "        .format(\"com.databricks.spark.csv\") \\\n",
    "        .option(\"header\", \"true\") \\\n",
    "        .load(\"Dresses_Attribute_Sales.csv\")\n",
    "\n",
    "df.show(5)"
   ]
  },
  {
   "cell_type": "markdown",
   "metadata": {},
   "source": [
    "# Các loại dữ liệu\n",
    "- Nomial\n",
    "- Numbers\n",
    "- Odinal\n",
    "- Ratio"
   ]
  },
  {
   "cell_type": "code",
   "execution_count": 4,
   "metadata": {},
   "outputs": [
    {
     "name": "stdout",
     "output_type": "stream",
     "text": [
      "+-------+--------+-------------+------------+\n",
      "|  Style|NeckLine|     Material|Pattern Type|\n",
      "+-------+--------+-------------+------------+\n",
      "|   Sexy|  o-neck|         null|      animal|\n",
      "| Casual|  o-neck|   microfiber|      animal|\n",
      "|vintage|  o-neck|     polyster|       print|\n",
      "|  Brief|  o-neck|         silk|       print|\n",
      "|   cute|  o-neck|chiffonfabric|         dot|\n",
      "+-------+--------+-------------+------------+\n",
      "only showing top 5 rows\n",
      "\n"
     ]
    }
   ],
   "source": [
    "# Nomial\n",
    "df_nomial = df[[\"Style\", \"NeckLine\", \"Material\", \"Pattern Type\"]]\n",
    "df_nomial.show(5)"
   ]
  },
  {
   "cell_type": "code",
   "execution_count": 5,
   "metadata": {},
   "outputs": [
    {
     "name": "stdout",
     "output_type": "stream",
     "text": [
      "+----------+\n",
      "|  Dress_ID|\n",
      "+----------+\n",
      "|1006032852|\n",
      "|1212192089|\n",
      "|1190380701|\n",
      "| 966005983|\n",
      "| 876339541|\n",
      "+----------+\n",
      "only showing top 5 rows\n",
      "\n"
     ]
    }
   ],
   "source": [
    "# Numbers\n",
    "df_numbers = df[[\"Dress_ID\"]]\n",
    "df_numbers.show(5)"
   ]
  },
  {
   "cell_type": "code",
   "execution_count": 6,
   "metadata": {},
   "outputs": [
    {
     "name": "stdout",
     "output_type": "stream",
     "text": [
      "+----+\n",
      "|Size|\n",
      "+----+\n",
      "|   M|\n",
      "|   L|\n",
      "|   L|\n",
      "|   L|\n",
      "|   M|\n",
      "+----+\n",
      "only showing top 5 rows\n",
      "\n"
     ]
    }
   ],
   "source": [
    "# Ordinal\n",
    "df_ordinal = df[[\"Size\"]]\n",
    "df_ordinal.show(5)"
   ]
  },
  {
   "cell_type": "code",
   "execution_count": 7,
   "metadata": {},
   "outputs": [
    {
     "name": "stdout",
     "output_type": "stream",
     "text": [
      "+------+\n",
      "|Rating|\n",
      "+------+\n",
      "|   4.6|\n",
      "|   0.0|\n",
      "|   0.0|\n",
      "|   4.6|\n",
      "|   4.5|\n",
      "+------+\n",
      "only showing top 5 rows\n",
      "\n"
     ]
    }
   ],
   "source": [
    "# ratio\n",
    "df_ratio = df[[\"Rating\"]]\n",
    "df_ratio.show(5)"
   ]
  },
  {
   "cell_type": "markdown",
   "metadata": {},
   "source": [
    "# Trung tâm dữ liệu\n",
    "- Trung bình (mean)\n",
    "$$\\mu = \\bar{x} = \\frac{1}{n} \\sum_{i=1}^n x_i = \\frac{1}{n} (x_1 + ... + x_n)$$\n",
    "- Trung vị (median)\n",
    "- Mode"
   ]
  },
  {
   "cell_type": "code",
   "execution_count": 8,
   "metadata": {},
   "outputs": [
    {
     "name": "stdout",
     "output_type": "stream",
     "text": [
      "+-------+-----+--------+--------+------------+\n",
      "|summary|Style|NeckLine|Material|Pattern Type|\n",
      "+-------+-----+--------+--------+------------+\n",
      "|  count|  500|     499|     499|         499|\n",
      "|   mean| null|    null|    null|        null|\n",
      "| stddev| null|    null|    null|        null|\n",
      "|    min|Brief|    NULL| acrylic|      animal|\n",
      "|    max| work|  v-neck|    wool|     striped|\n",
      "+-------+-----+--------+--------+------------+\n",
      "\n"
     ]
    }
   ],
   "source": [
    "df_nomial.describe().show()"
   ]
  },
  {
   "cell_type": "code",
   "execution_count": 9,
   "metadata": {},
   "outputs": [
    {
     "name": "stdout",
     "output_type": "stream",
     "text": [
      "+-------+--------------------+\n",
      "|summary|            Dress_ID|\n",
      "+-------+--------------------+\n",
      "|  count|                 500|\n",
      "|   mean|      9.0554168105E8|\n",
      "| stddev|1.7361896065394258E8|\n",
      "|    min|          1000425584|\n",
      "|    max|           999081623|\n",
      "+-------+--------------------+\n",
      "\n"
     ]
    }
   ],
   "source": [
    "df_numbers.describe().show()"
   ]
  },
  {
   "cell_type": "code",
   "execution_count": 10,
   "metadata": {},
   "outputs": [
    {
     "name": "stdout",
     "output_type": "stream",
     "text": [
      "+-------+-----+\n",
      "|summary| Size|\n",
      "+-------+-----+\n",
      "|  count|  500|\n",
      "|   mean| null|\n",
      "| stddev| null|\n",
      "|    min|    L|\n",
      "|    max|small|\n",
      "+-------+-----+\n",
      "\n"
     ]
    }
   ],
   "source": [
    "df_ordinal.describe().show()"
   ]
  },
  {
   "cell_type": "code",
   "execution_count": 11,
   "metadata": {},
   "outputs": [
    {
     "name": "stdout",
     "output_type": "stream",
     "text": [
      "+-------+------------------+\n",
      "|summary|            Rating|\n",
      "+-------+------------------+\n",
      "|  count|               500|\n",
      "|   mean|3.5285999937057495|\n",
      "| stddev|  2.00536405618619|\n",
      "|    min|               0.0|\n",
      "|    max|               5.0|\n",
      "+-------+------------------+\n",
      "\n"
     ]
    }
   ],
   "source": [
    "df_ratio.describe().show()"
   ]
  },
  {
   "cell_type": "code",
   "execution_count": 12,
   "metadata": {},
   "outputs": [
    {
     "name": "stdout",
     "output_type": "stream",
     "text": [
      "Mean rating: 3.52859999371\n"
     ]
    }
   ],
   "source": [
    "mean_rating = df_ratio.agg(F.mean(df_ratio.Rating)).first()[0]\n",
    "print \"Mean rating:\", mean_rating"
   ]
  },
  {
   "cell_type": "code",
   "execution_count": 13,
   "metadata": {},
   "outputs": [
    {
     "name": "stdout",
     "output_type": "stream",
     "text": [
      "Median rating: 4.59999990463\n"
     ]
    }
   ],
   "source": [
    "sqlContext.registerDataFrameAsTable(df_ratio, \"df_ratio\")\n",
    "\n",
    "median_rating = sqlContext.sql(\"\"\"\n",
    "    SELECT percentile(Rating, 0.5) AS median_rating \n",
    "    FROM df_ratio\n",
    "\"\"\").first()[\"median_rating\"]\n",
    "\n",
    "print \"Median rating:\", median_rating"
   ]
  },
  {
   "cell_type": "code",
   "execution_count": 14,
   "metadata": {},
   "outputs": [
    {
     "name": "stdout",
     "output_type": "stream",
     "text": [
      "Mode rating: 0.0\n"
     ]
    }
   ],
   "source": [
    "counts = df_ratio.groupBy(\"Rating\").count()\n",
    "\n",
    "mode_rating = counts.join(\n",
    "        counts.agg(F.max('count').alias('count')),\n",
    "        on='count'\n",
    "    ).limit(1).select(\"Rating\").first()[\"Rating\"]\n",
    "\n",
    "print \"Mode rating:\", mode_rating"
   ]
  },
  {
   "cell_type": "code",
   "execution_count": 15,
   "metadata": {},
   "outputs": [
    {
     "name": "stderr",
     "output_type": "stream",
     "text": [
      "/Users/hongong/virtualenv/trustingsocial/lib/python2.7/site-packages/matplotlib/axes/_axes.py:545: UserWarning: No labelled objects found. Use label='...' kwarg on individual plots.\n",
      "  warnings.warn(\"No labelled objects found. \"\n"
     ]
    },
    {
     "data": {
      "image/png": "[encoded data removed]",
      "text/plain": [
       "<matplotlib.figure.Figure at 0x10e4306d0>"
      ]
     },
     "metadata": {},
     "output_type": "display_data"
    }
   ],
   "source": [
    "# visualize price column\n",
    "fig, ax = plt.subplots(figsize=(15, 5))\n",
    "ax.axvline(mean_rating, color='red', linewidth=5)\n",
    "ax.axvline(median_rating, color='green', linewidth=5)\n",
    "ax.axvline(mode_rating, color='blue', linewidth=5)\n",
    "\n",
    "# Add arrows annotating the means:\n",
    "def add_arrow(label, val, align=\"left\"):\n",
    "    ax.annotate(label + ': {:0.2f}'.format(val), xy=(val, 1), xytext=(15, 15),\n",
    "            xycoords=('data', 'axes fraction'), textcoords='offset points',\n",
    "            horizontalalignment=align, verticalalignment='center',\n",
    "            arrowprops=dict(arrowstyle='-|>', fc='black', shrinkA=0, shrinkB=0,\n",
    "                            connectionstyle='angle,angleA=0,angleB=90,rad=10'),\n",
    "            )\n",
    "\n",
    "add_arrow(\"Mean\", mean_rating)\n",
    "add_arrow(\"Median\", median_rating)\n",
    "add_arrow(\"Mode\", mode_rating)\n",
    "ax.legend(loc='upper left')\n",
    "ax.margins(0.05)\n",
    "\n",
    "bins, hist = df_ratio.select(\"Rating\").rdd.flatMap(lambda x: x).histogram(70)\n",
    "hist = np.asarray(hist)\n",
    "bins = np.asarray(bins)\n",
    "width = 0.7 * (bins[1] - bins[0])\n",
    "center = (bins[:-1] + bins[1:]) / 2\n",
    "plt.bar(center, hist, align='center', width=width)\n",
    "plt.title(\"Rating Histogram\")\n",
    "plt.xlabel(\"Rating\")\n",
    "plt.ylabel(\"Frequency\")\n",
    "plt.show()"
   ]
  },
  {
   "cell_type": "markdown",
   "metadata": {},
   "source": [
    "# Biến đổi của dữ liệu \n",
    "- Khoảng đoạn (range)\n",
    "$$range = maxValue - minValue$$\n",
    "\n",
    "- Phương sai (variance)\n",
    "$$\\sigma^2 = \\frac{\\sum_{i=1}^n (x_i - \\mu)}{n}$$\n",
    "\n",
    "- Độ lệch chuẩn (standard deviation)\n",
    "$$\\sigma = \\sqrt{\\frac{\\sum_{i=1}^n (x_i - \\mu)}{n}}$$\n",
    "\n",
    "- Z-score: biến đổi từ sample mean để thực hiện Z-test\n",
    "    * Shift trung bình mẫu về 0 bằng $X - \\mu$\n",
    "    * Nén độ lệch chuẩn của mẫu ban đầu lại bằng cách chia cho $\\sigma$\n",
    "$$Z = \\frac{X - \\mu}{\\sigma}$$\n",
    "\n",
    "- Phân vị (percentile)\n",
    "$$percentile \\ of \\ x = \\frac{No. value \\ below \\ x}{n} * 100\\\\$$\n",
    "$$quartiles = \\frac{percentile * n}{100}$$"
   ]
  },
  {
   "cell_type": "code",
   "execution_count": 16,
   "metadata": {},
   "outputs": [
    {
     "name": "stdout",
     "output_type": "stream",
     "text": [
      "Min rating: 0.0\n",
      "Max rating: 5.0\n",
      "Rating range: 5.0\n"
     ]
    }
   ],
   "source": [
    "# range of rating\n",
    "min_rating = df_ratio.agg(F.min(df_ratio.Rating)).first()[0]\n",
    "max_rating = df_ratio.agg(F.max(df_ratio.Rating)).first()[0]\n",
    "range_rating = max_rating - min_rating\n",
    "print \"Min rating:\", min_rating\n",
    "print \"Max rating:\", max_rating\n",
    "print \"Rating range:\", range_rating"
   ]
  },
  {
   "cell_type": "code",
   "execution_count": 17,
   "metadata": {},
   "outputs": [
    {
     "name": "stdout",
     "output_type": "stream",
     "text": [
      "Rating variance: 4.02148499784\n"
     ]
    }
   ],
   "source": [
    "# variance of rating\n",
    "var_rating = df_ratio.agg(F.variance(df_ratio.Rating)).first()[0]\n",
    "print \"Rating variance:\", var_rating"
   ]
  },
  {
   "cell_type": "code",
   "execution_count": 18,
   "metadata": {
    "scrolled": true
   },
   "outputs": [
    {
     "name": "stdout",
     "output_type": "stream",
     "text": [
      "Rating standard deviation: 2.00536405619\n"
     ]
    }
   ],
   "source": [
    "# standard deviation of rating\n",
    "std_rating = df_ratio.agg(F.stddev(df_ratio.Rating)).first()[0]\n",
    "print \"Rating standard deviation:\", std_rating"
   ]
  },
  {
   "cell_type": "code",
   "execution_count": 19,
   "metadata": {},
   "outputs": [
    {
     "name": "stdout",
     "output_type": "stream",
     "text": [
      "\n",
      "Z-score of rating:\n",
      "+-------------------+\n",
      "|             Rating|\n",
      "+-------------------+\n",
      "|  2.840419152789433|\n",
      "|-1.7595807518431354|\n",
      "|-1.7595807518431354|\n",
      "|  2.840419152789433|\n",
      "| 2.7404192481568646|\n",
      "+-------------------+\n",
      "only showing top 5 rows\n",
      "\n"
     ]
    },
    {
     "data": {
      "image/png": "[encoded data removed]",
      "text/plain": [
       "<matplotlib.figure.Figure at 0x10e65c290>"
      ]
     },
     "metadata": {},
     "output_type": "display_data"
    }
   ],
   "source": [
    "# z-score of rating\n",
    "df_z_score_rating = sqlContext.sql(\"SELECT (Rating - \" + \\\n",
    "                                   str(mean_rating) + \" / \" + str(std_rating) + \\\n",
    "                                   \") as Rating FROM df_ratio\")               \n",
    "\n",
    "print \"\\nZ-score of rating:\"\n",
    "df_z_score_rating.show(5)\n",
    "\n",
    "bins, hist = df_z_score_rating.select(\"Rating\").rdd.flatMap(lambda x: x).histogram(70)\n",
    "hist = np.asarray(hist)\n",
    "bins = np.asarray(bins)\n",
    "width = 0.7 * (bins[1] - bins[0])\n",
    "center = (bins[:-1] + bins[1:]) / 2\n",
    "\n",
    "# plotting\n",
    "fig = plt.figure(figsize=(15, 5), dpi= 80, facecolor='w', edgecolor='k')\n",
    "plt.bar(center, hist, align='center', width=width)\n",
    "plt.title(\"Z score distribution\")\n",
    "plt.xlabel(\"Rating\")\n",
    "plt.ylabel(\"Frequency\")\n",
    "plt.show()"
   ]
  },
  {
   "cell_type": "markdown",
   "metadata": {},
   "source": [
    "# Xác suất\n",
    "- Xác suất (probability)\n",
    "$$probability = \\frac{event(s)}{outcome(s)}$$\n",
    "\n",
    "- Phép đếm hoán vị (permutation)\n",
    "$$P(n, r) = \\frac{n!}{(n - r)!}\\\\$$\n",
    "$$n: distinct\\ object\\ to\\ choose\\ from$$\n",
    "$$r: spaces\\ to\\ fill.$$\n",
    "\n",
    "- Phép đếm tổ hợp (combination)\n",
    "$$C(n, r) = \\frac{n!}{r!(n - r)!}$$\n",
    "\n",
    "- Xác suất có điều kiện (conditional probability)\n",
    "$$P(B|A) = \\frac{P(A \\cap B)}{P(A)}$$\n",
    "\n",
    "- Biến độc lập và biến phụ thuộc (independent/dependent variable)\n",
    "    - Independent variable: \n",
    "        * Dress_ID\n",
    "        * Style\n",
    "        * Price\n",
    "        * Rating\n",
    "        * Size\n",
    "        * Season\n",
    "        * NeckLine\n",
    "        * SleeveLength\n",
    "        * waiseline\n",
    "        * Material\n",
    "        * FabricType\n",
    "        * Decoration\n",
    "        * Pattern Type\n",
    "    - Dependent variable: Recommendation\n",
    "\n",
    "- Bayes\n",
    "$$P(A|B) = \\frac{P(B|A) P(A)}{P(B)}\\\\$$\n",
    "$$Posterior = \\frac{Likelihood * Prior}{Evidence}$$"
   ]
  },
  {
   "cell_type": "code",
   "execution_count": 20,
   "metadata": {},
   "outputs": [
    {
     "name": "stdout",
     "output_type": "stream",
     "text": [
      "P(Season:summer) 31.8\n",
      "P(Style:sexy and Season:summer) 4.8\n",
      "P(Style:sexy|Season:summer) 15.0943396226\n"
     ]
    }
   ],
   "source": [
    "# Conditional probability\n",
    "# P(Style:sexy|Season:summer) = P(Style:sexy and Season:summer) / P(Season:summer)\n",
    "num_items = df.select(\"Rating\").count()\n",
    "df_summer = df.select(\"Season\").where(df[\"Season\"] == \"Summer\")\n",
    "p_summer = df_summer.count() * 100.0 / num_items\n",
    "\n",
    "df_sexy_summer = df.select(df.Style, df.Season).where(\"Style = 'Sexy' and Season = 'Summer'\")\n",
    "p_sexy_summer = df_sexy_summer.count() * 100.0 / num_items\n",
    "\n",
    "p_sexy_given_summer = p_sexy_summer * 100 / p_summer\n",
    "\n",
    "print \"P(Season:summer)\", p_summer\n",
    "print \"P(Style:sexy and Season:summer)\", p_sexy_summer\n",
    "print \"P(Style:sexy|Season:summer)\", p_sexy_given_summer"
   ]
  },
  {
   "cell_type": "code",
   "execution_count": 21,
   "metadata": {},
   "outputs": [
    {
     "name": "stdout",
     "output_type": "stream",
     "text": [
      "P(Style:sexy) 13.8\n",
      "P(Season:summer) 31.8\n",
      "P(Season:summer|Style:sexy) 34.7826086957\n",
      "P(Style:sexy|Season:summer) Bayes: 15.0943396226\n"
     ]
    }
   ],
   "source": [
    "# Bayes\n",
    "# P(Style:sexy|Season:summer) = P(Season:summer|Style:sexy) * P(Style:sexy) / P(Season:summer)\n",
    "num_items = df.select(\"Rating\").count()\n",
    "df_style = df.select(df.Style).where(\"Style = 'Sexy'\")\n",
    "p_sexy = df_style.count() * 100.0 / num_items\n",
    "\n",
    "p_summer_given_sexy = p_sexy_summer * 100 / p_sexy\n",
    "\n",
    "p_sexy_given_summer_bayes = p_summer_given_sexy * p_sexy / p_summer\n",
    "\n",
    "print \"P(Style:sexy)\", p_sexy\n",
    "print \"P(Season:summer)\", p_summer\n",
    "print \"P(Season:summer|Style:sexy)\", p_summer_given_sexy\n",
    "print \"P(Style:sexy|Season:summer) Bayes:\", p_sexy_given_summer_bayes"
   ]
  },
  {
   "cell_type": "markdown",
   "metadata": {},
   "source": [
    "# Central limit theorem\n",
    "- Dịch thành: Định lý giới hạn trung tâm.\n",
    "- Cho quần thể có phân bố bất kỳ.\n",
    "- Ta thực hiện lấy mẫu nhiều lần trên quần thể cho trước với số lượng xác định.\n",
    "- Mỗi lần lấy mẫu ta đi tính trung bình mẫu\n",
    "- Tổng hợp các trung bình mẫu này lại thành histogram.\n",
    "- Quan sát phân phối của trung bình mẫu của các mẫu ngẫu nhiên, ta thấy đây gần giống với phân phối chuẩn dù cho quần thể ban đầu có phân bố bất kỳ."
   ]
  },
  {
   "cell_type": "code",
   "execution_count": 25,
   "metadata": {},
   "outputs": [],
   "source": [
    "# Simulating Central limit theorem\n",
    "num_sample = 30.0\n",
    "num_loop = 1000\n",
    "num_items = df.select(\"Rating\").count()\n",
    "samp_mean_ls = []\n",
    "\n",
    "for i in range(0, num_loop):\n",
    "    df_rating_sample = df.select(\"Rating\").sample(False, num_sample / num_items)\n",
    "    sum_of_sample = df_rating_sample.agg(F.sum(df_rating_sample.Rating)).first()[0]\n",
    "\n",
    "    x_bar = sum_of_sample * 100 / num_sample\n",
    "    samp_mean_ls.append(x_bar)    "
   ]
  },
  {
   "cell_type": "code",
   "execution_count": 26,
   "metadata": {},
   "outputs": [
    {
     "data": {
      "image/png": "[encoded data removed]",
      "text/plain": [
       "<matplotlib.figure.Figure at 0x10efea910>"
      ]
     },
     "metadata": {},
     "output_type": "display_data"
    }
   ],
   "source": [
    "# ploting population\n",
    "fig = plt.figure(figsize=(15, 5), dpi= 80, facecolor='w', edgecolor='k')\n",
    "plt.subplot(1, 2, 1)\n",
    "bins, hist = df_ratio.select(\"Rating\").rdd.flatMap(lambda x: x).histogram(70)\n",
    "hist = np.asarray(hist)\n",
    "bins = np.asarray(bins)\n",
    "width = 0.7 * (bins[1] - bins[0])\n",
    "center = (bins[:-1] + bins[1:]) / 2\n",
    "\n",
    "plt.bar(center, hist, align='center', width=width)\n",
    "plt.title(\"Population distribution: Rating\")\n",
    "plt.xlabel(\"Rating\")\n",
    "plt.ylabel(\"Frequency\")\n",
    "\n",
    "# ploting sampling\n",
    "plt.subplot(1, 2, 2)\n",
    "hist, bins = np.histogram(samp_mean_ls)\n",
    "width = 0.7 * (bins[1] - bins[0])\n",
    "center = (bins[:-1] + bins[1:]) / 2\n",
    "plt.bar(center, hist, align='center', width=width)\n",
    "plt.title(\"Sampling distribution of mean: Rating\")\n",
    "plt.xlabel(\"Sample mean\")\n",
    "plt.show()"
   ]
  }
 ],
 "metadata": {
  "kernelspec": {
   "display_name": "Python 2",
   "language": "python",
   "name": "python2"
  },
  "language_info": {
   "codemirror_mode": {
    "name": "ipython",
    "version": 2
   },
   "file_extension": ".py",
   "mimetype": "text/x-python",
   "name": "python",
   "nbconvert_exporter": "python",
   "pygments_lexer": "ipython2",
   "version": "2.7.10"
  }
 },
 "nbformat": 4,
 "nbformat_minor": 2
}
