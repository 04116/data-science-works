{
 "cells": [
  {
   "cell_type": "markdown",
   "metadata": {},
   "source": [
    "# Kích thước dữ liệu nhỏ"
   ]
  },
  {
   "cell_type": "markdown",
   "metadata": {},
   "source": [
    "## t-statistics\n",
    "Áp dụng khi kích thước mẫu n < 30, ngược lại ta dùng z-score. Khi kích thước mẫu càng lớn thì t-score xấp xỉ z-score.\n",
    "- z-test: so sánh mẫu thu thập với quần thể (sample vs population)\n",
    "- t-test: so sánh 2 mẫu thu thập độc lập (sample_1 vs sample_2, curve_1 vs curve_2)"
   ]
  },
  {
   "cell_type": "code",
   "execution_count": 1,
   "metadata": {},
   "outputs": [],
   "source": [
    "# import libraries\n",
    "from scipy import stats\n",
    "import math\n",
    "import numpy as np\n",
    "import matplotlib.pyplot as plt"
   ]
  },
  {
   "cell_type": "code",
   "execution_count": 2,
   "metadata": {},
   "outputs": [
    {
     "name": "stdout",
     "output_type": "stream",
     "text": [
      "t-test cho từng n\n",
      "n = 3: 4.30265272991\n",
      "n = 10: 2.26215716274\n",
      "n = 10: 2.09302405441\n",
      "\n",
      "n = 100: 1.98421695151\n",
      "z-score: 1.95996398454\n"
     ]
    }
   ],
   "source": [
    "print \"t-test cho từng n\"\n",
    "print \"n = 3:\", stats.t.ppf(0.975, 2)\n",
    "print \"n = 10:\", stats.t.ppf(0.975, 9)\n",
    "print \"n = 10:\", stats.t.ppf(0.975, 19)\n",
    "print \"\\nn = 100:\", stats.t.ppf(0.975, 99)\n",
    "print \"z-score:\", stats.norm.ppf(0.975)"
   ]
  },
  {
   "cell_type": "markdown",
   "metadata": {},
   "source": [
    "**Bài toán: tính khoảng tin cậy cho điểm số học sinh**\n",
    "$$SE_{\\bar{X}} = \\frac{s}{\\sqrt{n}} \\ (SE: standard \\ error)$$\n",
    "$$UCL = \\bar{x} + tScore * SE_{\\bar{X}}$$\n",
    "$$LCL = \\bar{x} - tScore * SE_{\\bar{X}}$$"
   ]
  },
  {
   "cell_type": "code",
   "execution_count": 3,
   "metadata": {},
   "outputs": [
    {
     "name": "stdout",
     "output_type": "stream",
     "text": [
      "sample mean: 126.0\n",
      "t-score: 2.39844098471\n",
      "standard error: 8.85437744847\n",
      "Tin cậy trên: 147.236701767\n",
      "Tin cậy dưới: 104.763298233\n"
     ]
    }
   ],
   "source": [
    "# điểm của 10 học sinh\n",
    "scores = np.asarray([120, 105, 100, 130, 115, 100, 185, 105, 130, 170])\n",
    "\n",
    "# chuẩn bị các thông số\n",
    "n = scores.size\n",
    "degree_of_fredom = n - 1\n",
    "confidence_interval = 0.98\n",
    "\n",
    "sample_mean = scores.mean()\n",
    "t_score = stats.t.ppf(confidence_interval, degree_of_fredom)\n",
    "standard_err = scores.std() / math.sqrt(n) \n",
    "\n",
    "print \"sample mean:\", sample_mean\n",
    "print \"t-score:\", t_score\n",
    "print \"standard error:\", standard_err\n",
    "\n",
    "# tính khoảng tin cậy\n",
    "ucl = sample_mean + t_score * standard_err\n",
    "lcl = sample_mean - t_score * standard_err\n",
    "\n",
    "print \"Tin cậy trên:\", ucl\n",
    "print \"Tin cậy dưới:\", lcl"
   ]
  },
  {
   "cell_type": "markdown",
   "metadata": {},
   "source": [
    "# So sánh hai quần thể\n",
    "**Case study**\n",
    "- Sử dụng **aspirin** có giảm tình trạng đau tim hay không?\n",
    "- **Nam giới** khi lái xe thường gây ra tai nạn nhiều hơn **nữ giới** phải không?\n",
    "- Tình trạng an ninh ở **Hồ Chí Minh** có tốt hơn ở **Hà Nội**?\n",
    "- **Nam giới** thường có mức lương cao hơn **nữ giới** đúng không?\n",
    "- **Ăn kiêng** và không tập luyện hay **tập luyện 2h/ngày** nhưng được ăn đủ thứ thì cái nào giúp giảm béo tốt hơn?\n",
    "- Sử dụng **multi-vitamin** có giúp học sinh tiếp thu môn toán tốt hơn không?\n",
    "- Học **online** hay học qua **sách giáo khoa** cái nào tốt hơn?\n",
    "\n",
    "**Steps**\n",
    "1. Chia quần thể thành experiment và control group\n",
    "2. Chuẩn bị các thông số\n",
    "    - Tính standard error\n",
    "    - Tính khoảng tin cậy\n",
    "3. Thực hiện kiểm định giả thuyết\n"
   ]
  },
  {
   "cell_type": "markdown",
   "metadata": {},
   "source": [
    "## Theo tỉ lệ\n",
    "$$SE = \\sqrt{\\frac{\\hat{p}_1(1 - \\hat{p_1})}{n_1} + \\frac{\\hat{p}_2(1 - \\hat{p_2})}{n_2}}$$\n",
    "$$UCL = (\\hat{p}_1 - \\hat{p}_1) + (Zscore * SE)$$\n",
    "$$LCL = (\\hat{p}_1 - \\hat{p}_1) - (Zscore * SE)$$"
   ]
  },
  {
   "cell_type": "markdown",
   "metadata": {},
   "source": [
    "**Sử dụng aspirin có giảm tình trạng đau tim hay không?**"
   ]
  },
  {
   "cell_type": "code",
   "execution_count": 4,
   "metadata": {},
   "outputs": [],
   "source": [
    "# 1. Chia quần thể thành experiment và control group\n",
    "group_aspirin = 2219\n",
    "group_control = 2035\n",
    "aspirin_heart_attacks = 26\n",
    "control_heart_attacks = 46"
   ]
  },
  {
   "cell_type": "code",
   "execution_count": 5,
   "metadata": {},
   "outputs": [
    {
     "name": "stdout",
     "output_type": "stream",
     "text": [
      "Tỉ lệ phần trăm bị đau tim khi sử dụng aspirin: 1.1716989635\n",
      "Tỉ lệ phần trăm bị đau tim khi không sử dụng aspirin: 2.26044226044\n",
      "Standard error giữa hai nhóm lấy mẫu: 0.00400938535831\n",
      "Differences from samples: 0.0108874329695\n",
      "UCL: 0.0187456838719\n",
      "LCL: 0.00302918206703\n"
     ]
    }
   ],
   "source": [
    "# 2. Chuẩn bị các thông số\n",
    "p_aspirin = aspirin_heart_attacks * 1.0 / group_aspirin\n",
    "p_control = control_heart_attacks * 1.0 / group_control\n",
    "print \"Tỉ lệ phần trăm bị đau tim khi sử dụng aspirin:\", p_aspirin * 100\n",
    "print \"Tỉ lệ phần trăm bị đau tim khi không sử dụng aspirin:\", p_control * 100\n",
    "\n",
    "# tính standard error\n",
    "SE = math.sqrt(abs(p_aspirin * (1 - p_aspirin) / group_aspirin + p_control * (1 - p_control) / group_control))\n",
    "print \"Standard error giữa hai nhóm lấy mẫu:\", SE\n",
    "\n",
    "# tính khoảng tin cậy\n",
    "diff_from_samples = abs(p_aspirin - p_control)\n",
    "critical_value = stats.norm.ppf(0.975)\n",
    "ucl = diff_from_samples + critical_value * SE\n",
    "lcl = diff_from_samples - critical_value * SE\n",
    "print \"Differences from samples:\", diff_from_samples\n",
    "print \"UCL:\", ucl\n",
    "print \"LCL:\", lcl"
   ]
  },
  {
   "cell_type": "code",
   "execution_count": 6,
   "metadata": {
    "collapsed": true
   },
   "outputs": [],
   "source": [
    "# 3. Thực hiện kiểm định giả thuyết\n",
    "# H0: cho rằng tỉ lệ mắc bệnh tim không thay đỗi. Nghĩa là p1 - p0 = 0\n",
    "# H1: cho rằng tỉ lệ mắc bệnh tim sẽ giảm. Nghĩa là p1 - p0 != 0\n",
    "# Chọn significant level (alpha, mức ý nghĩa) = 5%\n",
    "# Ở đây là population nên ta sẽ chọn Z-statistic để test"
   ]
  },
  {
   "cell_type": "markdown",
   "metadata": {},
   "source": [
    "$$z = \\frac{(\\hat{p}_1 - \\hat{p}_2) - (p_1 - p_2)}{SE} = \\frac{\\hat{p}_1 - \\hat{p}_2}{SE} \\ (assuming \\ no \\ differences: p_1 = p_2)$$"
   ]
  },
  {
   "cell_type": "code",
   "execution_count": 7,
   "metadata": {},
   "outputs": [
    {
     "name": "stdout",
     "output_type": "stream",
     "text": [
      "Z-score: 2.71548678824\n",
      "Critical value: 1.95996398454\n",
      "Reject H0 => Sử dụng aspirin làm giảm nguy cơ bị đau tim\n"
     ]
    }
   ],
   "source": [
    "z = diff_from_samples / SE\n",
    "print \"Z-score:\", z\n",
    "print \"Critical value:\", critical_value\n",
    "\n",
    "if z > critical_value:\n",
    "    print \"Reject H0 => Sử dụng aspirin làm giảm nguy cơ bị đau tim\"\n",
    "else:\n",
    "    print \"Reject Ha => Sử dụng aspirin không làm giảm nguy cơ bị đau tim\""
   ]
  },
  {
   "cell_type": "markdown",
   "metadata": {},
   "source": [
    "## Theo mean\n",
    "$$SE = \\sqrt{\\frac{\\sigma_1^2}{n_1} + \\frac{\\sigma_2^2}{n_2}}$$\n",
    "$$UCL = (\\hat{\\mu}_1 - \\hat{\\mu}_1) + (Zscore * SE)$$\n",
    "$$LCL = (\\hat{\\mu}_1 - \\hat{\\mu}_1) - (Zscore * SE)$$"
   ]
  },
  {
   "cell_type": "markdown",
   "metadata": {},
   "source": [
    "### Mô phỏng quá trình lấy mẫu ngẫu nhiên\n",
    "Học **online** hay học qua **sách giáo khoa** cái nào tốt hơn?\n",
    "- Chọn ngẫu nhiên 100 học sinh để học online\n",
    "- Chọn ngẫu nhiên 100 học sinh để học qua sách giáo khoa\n",
    "- Cho 2 nhóm này học cùng một kiến thức toán nhưng từ hai nguồn khác nhau (online, sách giáo khoa)\n",
    "- Làm bài kiểm tra toán trắc nghiệm để đánh giá 2 nhóm này."
   ]
  },
  {
   "cell_type": "code",
   "execution_count": 8,
   "metadata": {
    "scrolled": true
   },
   "outputs": [
    {
     "data": {
      "image/png": "[encoded data removed]",
      "text/plain": [
       "<matplotlib.figure.Figure at 0x10a6fefd0>"
      ]
     },
     "metadata": {},
     "output_type": "display_data"
    }
   ],
   "source": [
    "# Kết quả làm kiểm tra toán từ 2 nhóm\n",
    "# A: học online\n",
    "# B: học sách giáo khoa\n",
    "# 30 câu trắc nghiệm, mỗi câu 1 điểm\n",
    "\n",
    "def do_the_test():\n",
    "    n = 100\n",
    "    \n",
    "    # cho từng nhóm làm kiểm tra\n",
    "    group_A_scores = np.asarray([np.random.randint(1, 30) for p in range(0, n)])\n",
    "    group_B_scores = np.asarray([np.random.randint(1, 30) for p in range(0, n)])\n",
    "\n",
    "    # tính số điểm median của hai nhóm\n",
    "    group_A_median_scores = np.median(group_A_scores)\n",
    "    group_B_median_scores = np.median(group_B_scores)\n",
    "    \n",
    "    # so sánh sự khác biệt điểm số\n",
    "    diff_AB = group_A_median_scores - group_B_median_scores\n",
    "    return diff_AB\n",
    "\n",
    "# Thực hiện kiểm tra nhiều lần\n",
    "median_diffs = []\n",
    "for i in range(0, 100):\n",
    "    median_diffs.append(do_the_test())\n",
    "\n",
    "# biểu diễn bằng histogram    \n",
    "plt.hist(median_diffs)\n",
    "plt.xlabel(\"Med diff\")\n",
    "plt.ylabel(\"Frequency\")\n",
    "plt.show()"
   ]
  },
  {
   "cell_type": "code",
   "execution_count": 9,
   "metadata": {},
   "outputs": [
    {
     "name": "stdout",
     "output_type": "stream",
     "text": [
      "Difference mean scores: 2.1\n"
     ]
    }
   ],
   "source": [
    "# 1. Chia quần thể thành digital và text group\n",
    "n_digital_group = 120\n",
    "n_text_group = 80\n",
    "\n",
    "digital_mean = 16.2\n",
    "text_mean = 14.1\n",
    "\n",
    "digital_std = 2.5\n",
    "text_std = 3.6\n",
    "\n",
    "diff_of_mean = digital_mean - text_mean\n",
    "print \"Difference mean scores:\", diff_of_mean"
   ]
  },
  {
   "cell_type": "code",
   "execution_count": 10,
   "metadata": {},
   "outputs": [
    {
     "name": "stdout",
     "output_type": "stream",
     "text": [
      "Standard error giữa hai nhóm lấy mẫu: 0.462691401836\n",
      "UCL: 3.00685848356\n",
      "LCL: 1.19314151644\n"
     ]
    }
   ],
   "source": [
    "# 2. Chuẩn bị các thông số\n",
    "\n",
    "# tính standard error\n",
    "SE = math.sqrt(digital_std**2 / n_digital_group + text_std**2 / n_text_group)\n",
    "print \"Standard error giữa hai nhóm lấy mẫu:\", SE\n",
    "\n",
    "# tính khoảng tin cậy\n",
    "critical_value = stats.norm.ppf(0.975)\n",
    "ucl = diff_of_mean + critical_value * SE\n",
    "lcl = diff_of_mean - critical_value * SE\n",
    "print \"UCL:\", ucl\n",
    "print \"LCL:\", lcl"
   ]
  },
  {
   "cell_type": "code",
   "execution_count": 11,
   "metadata": {
    "collapsed": true
   },
   "outputs": [],
   "source": [
    "# 3. Thực hiện kiểm định giả thuyết\n",
    "# H0: cho rằng học online không có gì khác học sách giáo khoa. Nghĩa là mean1 - mean2 = 0\n",
    "# H1: cho rằng học online tốt hơn học sách giáo khoa. Nghĩa là mean1 - mean2 > 0\n",
    "# Chọn significant level (alpha, mức ý nghĩa) = 1%\n",
    "# Ở đây là population nên ta sẽ chọn Z-statistic để test"
   ]
  },
  {
   "cell_type": "markdown",
   "metadata": {},
   "source": [
    "$$z = \\frac{(\\bar{x_1} - \\bar{x_2}) - (\\mu_1 - \\mu_2)}{SE} = \\frac{\\bar{x_1} - \\bar{x_2}}{SE} \\ (assuming \\ no \\ differences: \\mu_1 = \\mu_2)$$"
   ]
  },
  {
   "cell_type": "code",
   "execution_count": 12,
   "metadata": {},
   "outputs": [
    {
     "name": "stdout",
     "output_type": "stream",
     "text": [
      "Z-score: 4.53866225235\n",
      "Critical value: 2.32634787404\n",
      "Reject H0 => học online tốt hơn học sách giáo khoa\n"
     ]
    }
   ],
   "source": [
    "z = diff_of_mean / SE\n",
    "print \"Z-score:\", z\n",
    "\n",
    "critical_value = stats.norm.ppf(0.99)\n",
    "print \"Critical value:\", critical_value\n",
    "\n",
    "if z > critical_value:\n",
    "    print \"Reject H0 => học online tốt hơn học sách giáo khoa\"\n",
    "else:\n",
    "    print \"Reject Ha => học online không có gì khác học sách giáo khoa\""
   ]
  },
  {
   "cell_type": "markdown",
   "metadata": {},
   "source": [
    "# Chi-square\n",
    "$$X^2 = \\sum \\frac{(observed - expected)^2}{expected}$$"
   ]
  },
  {
   "cell_type": "markdown",
   "metadata": {},
   "source": [
    "# ANOVA\n",
    "Giả định của ANOVA\n",
    "- Normal distribution\n",
    "- Independent observations\n",
    "- Equivalent variance\n",
    "\n",
    "SST: Total sum of squares\n",
    "$$SST = \\sum_{i=1}^n (y_i - \\bar{y})^2$$\n",
    "\n",
    "SSW: Sum of squares within\n",
    "$$SSW = \\sum_{i=1}^k \\sum_{j=1}^{n_i} (x_{ij} - \\bar{x}_i)^2$$\n",
    "\n",
    "SSB: Sum of squares between\n",
    "$$SSB = n \\sum_{i=1}^k \\sum_{j=1}^n (\\bar{x}_i - \\bar{x})^2$$\n",
    "\n",
    "f-statistics\n",
    "$$F-stat = \\frac{\\frac{SSB}{m - 1}}{\\frac{SSW}{n_t - m}}$$"
   ]
  },
  {
   "cell_type": "markdown",
   "metadata": {},
   "source": [
    "# Hồi quy"
   ]
  },
  {
   "cell_type": "code",
   "execution_count": null,
   "metadata": {
    "collapsed": true
   },
   "outputs": [],
   "source": []
  }
 ],
 "metadata": {
  "kernelspec": {
   "display_name": "Python 2",
   "language": "python",
   "name": "python2"
  },
  "language_info": {
   "codemirror_mode": {
    "name": "ipython",
    "version": 2
   },
   "file_extension": ".py",
   "mimetype": "text/x-python",
   "name": "python",
   "nbconvert_exporter": "python",
   "pygments_lexer": "ipython2",
   "version": "2.7.10"
  }
 },
 "nbformat": 4,
 "nbformat_minor": 2
}
