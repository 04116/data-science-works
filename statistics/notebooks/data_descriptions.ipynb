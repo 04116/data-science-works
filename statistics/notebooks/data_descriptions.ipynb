{
 "cells": [
  {
   "cell_type": "markdown",
   "metadata": {},
   "source": [
    "# Mô tả dữ liệu\n",
    "- Dataset: Dresses_Attribute_Sales\n",
    "- Link: https://archive.ics.uci.edu/ml/datasets/Dresses_Attribute_Sales\n",
    "- Associated Tasks: Classification, Clustering\n",
    "- Number of Instances: 1000\n",
    "- Number of Attributes: 7"
   ]
  },
  {
   "cell_type": "code",
   "execution_count": 1,
   "metadata": {
    "collapsed": true
   },
   "outputs": [],
   "source": [
    "# import all necessary library\n",
    "import pandas as pd\n",
    "import numpy as np\n",
    "import matplotlib.pyplot as plt\n",
    "from collections import Counter"
   ]
  },
  {
   "cell_type": "code",
   "execution_count": 2,
   "metadata": {},
   "outputs": [
    {
     "data": {
      "text/html": [
       "<div>\n",
       "<style>\n",
       "    .dataframe thead tr:only-child th {\n",
       "        text-align: right;\n",
       "    }\n",
       "\n",
       "    .dataframe thead th {\n",
       "        text-align: left;\n",
       "    }\n",
       "\n",
       "    .dataframe tbody tr th {\n",
       "        vertical-align: top;\n",
       "    }\n",
       "</style>\n",
       "<table border=\"1\" class=\"dataframe\">\n",
       "  <thead>\n",
       "    <tr style=\"text-align: right;\">\n",
       "      <th></th>\n",
       "      <th>Dress_ID</th>\n",
       "      <th>Style</th>\n",
       "      <th>Price</th>\n",
       "      <th>Rating</th>\n",
       "      <th>Size</th>\n",
       "      <th>Season</th>\n",
       "      <th>NeckLine</th>\n",
       "      <th>SleeveLength</th>\n",
       "      <th>waiseline</th>\n",
       "      <th>Material</th>\n",
       "      <th>FabricType</th>\n",
       "      <th>Decoration</th>\n",
       "      <th>Pattern Type</th>\n",
       "      <th>Recommendation</th>\n",
       "    </tr>\n",
       "  </thead>\n",
       "  <tbody>\n",
       "    <tr>\n",
       "      <th>0</th>\n",
       "      <td>1006032852</td>\n",
       "      <td>Sexy</td>\n",
       "      <td>Low</td>\n",
       "      <td>4.6</td>\n",
       "      <td>M</td>\n",
       "      <td>Summer</td>\n",
       "      <td>o-neck</td>\n",
       "      <td>sleevless</td>\n",
       "      <td>empire</td>\n",
       "      <td>null</td>\n",
       "      <td>chiffon</td>\n",
       "      <td>ruffles</td>\n",
       "      <td>animal</td>\n",
       "      <td>1</td>\n",
       "    </tr>\n",
       "    <tr>\n",
       "      <th>1</th>\n",
       "      <td>1212192089</td>\n",
       "      <td>Casual</td>\n",
       "      <td>Low</td>\n",
       "      <td>0.0</td>\n",
       "      <td>L</td>\n",
       "      <td>Summer</td>\n",
       "      <td>o-neck</td>\n",
       "      <td>Petal</td>\n",
       "      <td>natural</td>\n",
       "      <td>microfiber</td>\n",
       "      <td>null</td>\n",
       "      <td>ruffles</td>\n",
       "      <td>animal</td>\n",
       "      <td>0</td>\n",
       "    </tr>\n",
       "    <tr>\n",
       "      <th>2</th>\n",
       "      <td>1190380701</td>\n",
       "      <td>vintage</td>\n",
       "      <td>High</td>\n",
       "      <td>0.0</td>\n",
       "      <td>L</td>\n",
       "      <td>Automn</td>\n",
       "      <td>o-neck</td>\n",
       "      <td>full</td>\n",
       "      <td>natural</td>\n",
       "      <td>polyster</td>\n",
       "      <td>null</td>\n",
       "      <td>null</td>\n",
       "      <td>print</td>\n",
       "      <td>0</td>\n",
       "    </tr>\n",
       "    <tr>\n",
       "      <th>3</th>\n",
       "      <td>966005983</td>\n",
       "      <td>Brief</td>\n",
       "      <td>Average</td>\n",
       "      <td>4.6</td>\n",
       "      <td>L</td>\n",
       "      <td>Spring</td>\n",
       "      <td>o-neck</td>\n",
       "      <td>full</td>\n",
       "      <td>natural</td>\n",
       "      <td>silk</td>\n",
       "      <td>chiffon</td>\n",
       "      <td>embroidary</td>\n",
       "      <td>print</td>\n",
       "      <td>1</td>\n",
       "    </tr>\n",
       "    <tr>\n",
       "      <th>4</th>\n",
       "      <td>876339541</td>\n",
       "      <td>cute</td>\n",
       "      <td>Low</td>\n",
       "      <td>4.5</td>\n",
       "      <td>M</td>\n",
       "      <td>Summer</td>\n",
       "      <td>o-neck</td>\n",
       "      <td>butterfly</td>\n",
       "      <td>natural</td>\n",
       "      <td>chiffonfabric</td>\n",
       "      <td>chiffon</td>\n",
       "      <td>bow</td>\n",
       "      <td>dot</td>\n",
       "      <td>0</td>\n",
       "    </tr>\n",
       "    <tr>\n",
       "      <th>5</th>\n",
       "      <td>1068332458</td>\n",
       "      <td>bohemian</td>\n",
       "      <td>Low</td>\n",
       "      <td>0.0</td>\n",
       "      <td>M</td>\n",
       "      <td>Summer</td>\n",
       "      <td>v-neck</td>\n",
       "      <td>sleevless</td>\n",
       "      <td>empire</td>\n",
       "      <td>null</td>\n",
       "      <td>null</td>\n",
       "      <td>null</td>\n",
       "      <td>print</td>\n",
       "      <td>0</td>\n",
       "    </tr>\n",
       "    <tr>\n",
       "      <th>6</th>\n",
       "      <td>1220707172</td>\n",
       "      <td>Casual</td>\n",
       "      <td>Average</td>\n",
       "      <td>0.0</td>\n",
       "      <td>XL</td>\n",
       "      <td>Summer</td>\n",
       "      <td>o-neck</td>\n",
       "      <td>full</td>\n",
       "      <td>null</td>\n",
       "      <td>cotton</td>\n",
       "      <td>null</td>\n",
       "      <td>null</td>\n",
       "      <td>solid</td>\n",
       "      <td>0</td>\n",
       "    </tr>\n",
       "    <tr>\n",
       "      <th>7</th>\n",
       "      <td>1219677488</td>\n",
       "      <td>Novelty</td>\n",
       "      <td>Average</td>\n",
       "      <td>0.0</td>\n",
       "      <td>free</td>\n",
       "      <td>Automn</td>\n",
       "      <td>o-neck</td>\n",
       "      <td>short</td>\n",
       "      <td>natural</td>\n",
       "      <td>polyster</td>\n",
       "      <td>broadcloth</td>\n",
       "      <td>lace</td>\n",
       "      <td>null</td>\n",
       "      <td>0</td>\n",
       "    </tr>\n",
       "    <tr>\n",
       "      <th>8</th>\n",
       "      <td>1113094204</td>\n",
       "      <td>Flare</td>\n",
       "      <td>Average</td>\n",
       "      <td>0.0</td>\n",
       "      <td>free</td>\n",
       "      <td>Spring</td>\n",
       "      <td>v-neck</td>\n",
       "      <td>short</td>\n",
       "      <td>empire</td>\n",
       "      <td>cotton</td>\n",
       "      <td>broadcloth</td>\n",
       "      <td>beading</td>\n",
       "      <td>solid</td>\n",
       "      <td>1</td>\n",
       "    </tr>\n",
       "    <tr>\n",
       "      <th>9</th>\n",
       "      <td>985292672</td>\n",
       "      <td>bohemian</td>\n",
       "      <td>Low</td>\n",
       "      <td>0.0</td>\n",
       "      <td>free</td>\n",
       "      <td>Summer</td>\n",
       "      <td>v-neck</td>\n",
       "      <td>sleevless</td>\n",
       "      <td>natural</td>\n",
       "      <td>nylon</td>\n",
       "      <td>chiffon</td>\n",
       "      <td>null</td>\n",
       "      <td>null</td>\n",
       "      <td>1</td>\n",
       "    </tr>\n",
       "  </tbody>\n",
       "</table>\n",
       "</div>"
      ],
      "text/plain": [
       "     Dress_ID     Style    Price  Rating  Size  Season NeckLine SleeveLength  \\\n",
       "0  1006032852      Sexy      Low     4.6     M  Summer   o-neck    sleevless   \n",
       "1  1212192089    Casual      Low     0.0     L  Summer   o-neck        Petal   \n",
       "2  1190380701   vintage     High     0.0     L  Automn   o-neck         full   \n",
       "3   966005983     Brief  Average     4.6     L  Spring   o-neck         full   \n",
       "4   876339541      cute      Low     4.5     M  Summer   o-neck    butterfly   \n",
       "5  1068332458  bohemian      Low     0.0     M  Summer   v-neck    sleevless   \n",
       "6  1220707172    Casual  Average     0.0    XL  Summer   o-neck         full   \n",
       "7  1219677488   Novelty  Average     0.0  free  Automn   o-neck        short   \n",
       "8  1113094204     Flare  Average     0.0  free  Spring   v-neck        short   \n",
       "9   985292672  bohemian      Low     0.0  free  Summer   v-neck    sleevless   \n",
       "\n",
       "  waiseline       Material  FabricType  Decoration Pattern Type  \\\n",
       "0    empire           null     chiffon     ruffles       animal   \n",
       "1   natural     microfiber        null     ruffles       animal   \n",
       "2   natural       polyster        null        null        print   \n",
       "3   natural           silk     chiffon  embroidary        print   \n",
       "4   natural  chiffonfabric     chiffon         bow          dot   \n",
       "5    empire           null        null        null        print   \n",
       "6      null         cotton        null        null        solid   \n",
       "7   natural       polyster  broadcloth        lace         null   \n",
       "8    empire         cotton  broadcloth     beading        solid   \n",
       "9   natural          nylon     chiffon        null         null   \n",
       "\n",
       "   Recommendation  \n",
       "0               1  \n",
       "1               0  \n",
       "2               0  \n",
       "3               1  \n",
       "4               0  \n",
       "5               0  \n",
       "6               0  \n",
       "7               0  \n",
       "8               1  \n",
       "9               1  "
      ]
     },
     "execution_count": 2,
     "metadata": {},
     "output_type": "execute_result"
    }
   ],
   "source": [
    "# reading dataset to dataframe\n",
    "df = pd.read_csv(\"Dresses_Attribute_Sales.csv\")\n",
    "df.head(10)"
   ]
  },
  {
   "cell_type": "markdown",
   "metadata": {},
   "source": [
    "# Các loại dữ liệu\n",
    "- Nomial\n",
    "- Numbers\n",
    "- Odinal\n",
    "- Ratio"
   ]
  },
  {
   "cell_type": "code",
   "execution_count": 3,
   "metadata": {},
   "outputs": [
    {
     "data": {
      "text/html": [
       "<div>\n",
       "<style>\n",
       "    .dataframe thead tr:only-child th {\n",
       "        text-align: right;\n",
       "    }\n",
       "\n",
       "    .dataframe thead th {\n",
       "        text-align: left;\n",
       "    }\n",
       "\n",
       "    .dataframe tbody tr th {\n",
       "        vertical-align: top;\n",
       "    }\n",
       "</style>\n",
       "<table border=\"1\" class=\"dataframe\">\n",
       "  <thead>\n",
       "    <tr style=\"text-align: right;\">\n",
       "      <th></th>\n",
       "      <th>Style</th>\n",
       "      <th>NeckLine</th>\n",
       "      <th>Material</th>\n",
       "      <th>Pattern Type</th>\n",
       "    </tr>\n",
       "  </thead>\n",
       "  <tbody>\n",
       "    <tr>\n",
       "      <th>0</th>\n",
       "      <td>Sexy</td>\n",
       "      <td>o-neck</td>\n",
       "      <td>null</td>\n",
       "      <td>animal</td>\n",
       "    </tr>\n",
       "    <tr>\n",
       "      <th>1</th>\n",
       "      <td>Casual</td>\n",
       "      <td>o-neck</td>\n",
       "      <td>microfiber</td>\n",
       "      <td>animal</td>\n",
       "    </tr>\n",
       "    <tr>\n",
       "      <th>2</th>\n",
       "      <td>vintage</td>\n",
       "      <td>o-neck</td>\n",
       "      <td>polyster</td>\n",
       "      <td>print</td>\n",
       "    </tr>\n",
       "    <tr>\n",
       "      <th>3</th>\n",
       "      <td>Brief</td>\n",
       "      <td>o-neck</td>\n",
       "      <td>silk</td>\n",
       "      <td>print</td>\n",
       "    </tr>\n",
       "    <tr>\n",
       "      <th>4</th>\n",
       "      <td>cute</td>\n",
       "      <td>o-neck</td>\n",
       "      <td>chiffonfabric</td>\n",
       "      <td>dot</td>\n",
       "    </tr>\n",
       "  </tbody>\n",
       "</table>\n",
       "</div>"
      ],
      "text/plain": [
       "     Style NeckLine       Material Pattern Type\n",
       "0     Sexy   o-neck           null       animal\n",
       "1   Casual   o-neck     microfiber       animal\n",
       "2  vintage   o-neck       polyster        print\n",
       "3    Brief   o-neck           silk        print\n",
       "4     cute   o-neck  chiffonfabric          dot"
      ]
     },
     "execution_count": 3,
     "metadata": {},
     "output_type": "execute_result"
    }
   ],
   "source": [
    "# Nomial\n",
    "df_nomial = df[[\"Style\", \"NeckLine\", \"Material\", \"Pattern Type\"]]\n",
    "df_nomial.head(5)"
   ]
  },
  {
   "cell_type": "code",
   "execution_count": 4,
   "metadata": {},
   "outputs": [
    {
     "data": {
      "text/html": [
       "<div>\n",
       "<style>\n",
       "    .dataframe thead tr:only-child th {\n",
       "        text-align: right;\n",
       "    }\n",
       "\n",
       "    .dataframe thead th {\n",
       "        text-align: left;\n",
       "    }\n",
       "\n",
       "    .dataframe tbody tr th {\n",
       "        vertical-align: top;\n",
       "    }\n",
       "</style>\n",
       "<table border=\"1\" class=\"dataframe\">\n",
       "  <thead>\n",
       "    <tr style=\"text-align: right;\">\n",
       "      <th></th>\n",
       "      <th>Dress_ID</th>\n",
       "    </tr>\n",
       "  </thead>\n",
       "  <tbody>\n",
       "    <tr>\n",
       "      <th>0</th>\n",
       "      <td>1006032852</td>\n",
       "    </tr>\n",
       "    <tr>\n",
       "      <th>1</th>\n",
       "      <td>1212192089</td>\n",
       "    </tr>\n",
       "    <tr>\n",
       "      <th>2</th>\n",
       "      <td>1190380701</td>\n",
       "    </tr>\n",
       "    <tr>\n",
       "      <th>3</th>\n",
       "      <td>966005983</td>\n",
       "    </tr>\n",
       "    <tr>\n",
       "      <th>4</th>\n",
       "      <td>876339541</td>\n",
       "    </tr>\n",
       "  </tbody>\n",
       "</table>\n",
       "</div>"
      ],
      "text/plain": [
       "     Dress_ID\n",
       "0  1006032852\n",
       "1  1212192089\n",
       "2  1190380701\n",
       "3   966005983\n",
       "4   876339541"
      ]
     },
     "execution_count": 4,
     "metadata": {},
     "output_type": "execute_result"
    }
   ],
   "source": [
    "# Numbers\n",
    "df_numbers = df[[\"Dress_ID\"]]\n",
    "df_numbers.head(5)"
   ]
  },
  {
   "cell_type": "code",
   "execution_count": 5,
   "metadata": {},
   "outputs": [
    {
     "data": {
      "text/html": [
       "<div>\n",
       "<style>\n",
       "    .dataframe thead tr:only-child th {\n",
       "        text-align: right;\n",
       "    }\n",
       "\n",
       "    .dataframe thead th {\n",
       "        text-align: left;\n",
       "    }\n",
       "\n",
       "    .dataframe tbody tr th {\n",
       "        vertical-align: top;\n",
       "    }\n",
       "</style>\n",
       "<table border=\"1\" class=\"dataframe\">\n",
       "  <thead>\n",
       "    <tr style=\"text-align: right;\">\n",
       "      <th></th>\n",
       "      <th>Size</th>\n",
       "    </tr>\n",
       "  </thead>\n",
       "  <tbody>\n",
       "    <tr>\n",
       "      <th>0</th>\n",
       "      <td>M</td>\n",
       "    </tr>\n",
       "    <tr>\n",
       "      <th>1</th>\n",
       "      <td>L</td>\n",
       "    </tr>\n",
       "    <tr>\n",
       "      <th>2</th>\n",
       "      <td>L</td>\n",
       "    </tr>\n",
       "    <tr>\n",
       "      <th>3</th>\n",
       "      <td>L</td>\n",
       "    </tr>\n",
       "    <tr>\n",
       "      <th>4</th>\n",
       "      <td>M</td>\n",
       "    </tr>\n",
       "  </tbody>\n",
       "</table>\n",
       "</div>"
      ],
      "text/plain": [
       "  Size\n",
       "0    M\n",
       "1    L\n",
       "2    L\n",
       "3    L\n",
       "4    M"
      ]
     },
     "execution_count": 5,
     "metadata": {},
     "output_type": "execute_result"
    }
   ],
   "source": [
    "# Ordinal\n",
    "df_ordinal = df[[\"Size\"]]\n",
    "df_ordinal.head(5)"
   ]
  },
  {
   "cell_type": "code",
   "execution_count": 6,
   "metadata": {},
   "outputs": [
    {
     "data": {
      "text/html": [
       "<div>\n",
       "<style>\n",
       "    .dataframe thead tr:only-child th {\n",
       "        text-align: right;\n",
       "    }\n",
       "\n",
       "    .dataframe thead th {\n",
       "        text-align: left;\n",
       "    }\n",
       "\n",
       "    .dataframe tbody tr th {\n",
       "        vertical-align: top;\n",
       "    }\n",
       "</style>\n",
       "<table border=\"1\" class=\"dataframe\">\n",
       "  <thead>\n",
       "    <tr style=\"text-align: right;\">\n",
       "      <th></th>\n",
       "      <th>Rating</th>\n",
       "    </tr>\n",
       "  </thead>\n",
       "  <tbody>\n",
       "    <tr>\n",
       "      <th>0</th>\n",
       "      <td>4.6</td>\n",
       "    </tr>\n",
       "    <tr>\n",
       "      <th>1</th>\n",
       "      <td>0.0</td>\n",
       "    </tr>\n",
       "    <tr>\n",
       "      <th>2</th>\n",
       "      <td>0.0</td>\n",
       "    </tr>\n",
       "    <tr>\n",
       "      <th>3</th>\n",
       "      <td>4.6</td>\n",
       "    </tr>\n",
       "    <tr>\n",
       "      <th>4</th>\n",
       "      <td>4.5</td>\n",
       "    </tr>\n",
       "  </tbody>\n",
       "</table>\n",
       "</div>"
      ],
      "text/plain": [
       "   Rating\n",
       "0     4.6\n",
       "1     0.0\n",
       "2     0.0\n",
       "3     4.6\n",
       "4     4.5"
      ]
     },
     "execution_count": 6,
     "metadata": {},
     "output_type": "execute_result"
    }
   ],
   "source": [
    "# ratio\n",
    "df_ratio = df[[\"Rating\"]]\n",
    "df_ratio.head(5)"
   ]
  },
  {
   "cell_type": "markdown",
   "metadata": {},
   "source": [
    "# Trung tâm dữ liệu\n",
    "- Trung bình (mean)\n",
    "$$\\mu = \\bar{x} = \\frac{1}{n} \\sum_{i=1}^n x_i = \\frac{1}{n} (x_1 + ... + x_n)$$\n",
    "- Trung vị (median)\n",
    "- Mode"
   ]
  },
  {
   "cell_type": "code",
   "execution_count": 7,
   "metadata": {},
   "outputs": [
    {
     "data": {
      "text/html": [
       "<div>\n",
       "<style>\n",
       "    .dataframe thead tr:only-child th {\n",
       "        text-align: right;\n",
       "    }\n",
       "\n",
       "    .dataframe thead th {\n",
       "        text-align: left;\n",
       "    }\n",
       "\n",
       "    .dataframe tbody tr th {\n",
       "        vertical-align: top;\n",
       "    }\n",
       "</style>\n",
       "<table border=\"1\" class=\"dataframe\">\n",
       "  <thead>\n",
       "    <tr style=\"text-align: right;\">\n",
       "      <th></th>\n",
       "      <th>Style</th>\n",
       "      <th>NeckLine</th>\n",
       "      <th>Material</th>\n",
       "      <th>Pattern Type</th>\n",
       "    </tr>\n",
       "  </thead>\n",
       "  <tbody>\n",
       "    <tr>\n",
       "      <th>count</th>\n",
       "      <td>500</td>\n",
       "      <td>497</td>\n",
       "      <td>499</td>\n",
       "      <td>499</td>\n",
       "    </tr>\n",
       "    <tr>\n",
       "      <th>unique</th>\n",
       "      <td>13</td>\n",
       "      <td>16</td>\n",
       "      <td>24</td>\n",
       "      <td>15</td>\n",
       "    </tr>\n",
       "    <tr>\n",
       "      <th>top</th>\n",
       "      <td>Casual</td>\n",
       "      <td>o-neck</td>\n",
       "      <td>cotton</td>\n",
       "      <td>solid</td>\n",
       "    </tr>\n",
       "    <tr>\n",
       "      <th>freq</th>\n",
       "      <td>232</td>\n",
       "      <td>271</td>\n",
       "      <td>152</td>\n",
       "      <td>203</td>\n",
       "    </tr>\n",
       "  </tbody>\n",
       "</table>\n",
       "</div>"
      ],
      "text/plain": [
       "         Style NeckLine Material Pattern Type\n",
       "count      500      497      499          499\n",
       "unique      13       16       24           15\n",
       "top     Casual   o-neck   cotton        solid\n",
       "freq       232      271      152          203"
      ]
     },
     "execution_count": 7,
     "metadata": {},
     "output_type": "execute_result"
    }
   ],
   "source": [
    "df_nomial.describe()"
   ]
  },
  {
   "cell_type": "code",
   "execution_count": 8,
   "metadata": {},
   "outputs": [
    {
     "data": {
      "text/html": [
       "<div>\n",
       "<style>\n",
       "    .dataframe thead tr:only-child th {\n",
       "        text-align: right;\n",
       "    }\n",
       "\n",
       "    .dataframe thead th {\n",
       "        text-align: left;\n",
       "    }\n",
       "\n",
       "    .dataframe tbody tr th {\n",
       "        vertical-align: top;\n",
       "    }\n",
       "</style>\n",
       "<table border=\"1\" class=\"dataframe\">\n",
       "  <thead>\n",
       "    <tr style=\"text-align: right;\">\n",
       "      <th></th>\n",
       "      <th>Dress_ID</th>\n",
       "    </tr>\n",
       "  </thead>\n",
       "  <tbody>\n",
       "    <tr>\n",
       "      <th>count</th>\n",
       "      <td>5.000000e+02</td>\n",
       "    </tr>\n",
       "    <tr>\n",
       "      <th>mean</th>\n",
       "      <td>9.055417e+08</td>\n",
       "    </tr>\n",
       "    <tr>\n",
       "      <th>std</th>\n",
       "      <td>1.736190e+08</td>\n",
       "    </tr>\n",
       "    <tr>\n",
       "      <th>min</th>\n",
       "      <td>4.442820e+08</td>\n",
       "    </tr>\n",
       "    <tr>\n",
       "      <th>25%</th>\n",
       "      <td>7.673164e+08</td>\n",
       "    </tr>\n",
       "    <tr>\n",
       "      <th>50%</th>\n",
       "      <td>9.083296e+08</td>\n",
       "    </tr>\n",
       "    <tr>\n",
       "      <th>75%</th>\n",
       "      <td>1.039534e+09</td>\n",
       "    </tr>\n",
       "    <tr>\n",
       "      <th>max</th>\n",
       "      <td>1.253973e+09</td>\n",
       "    </tr>\n",
       "  </tbody>\n",
       "</table>\n",
       "</div>"
      ],
      "text/plain": [
       "           Dress_ID\n",
       "count  5.000000e+02\n",
       "mean   9.055417e+08\n",
       "std    1.736190e+08\n",
       "min    4.442820e+08\n",
       "25%    7.673164e+08\n",
       "50%    9.083296e+08\n",
       "75%    1.039534e+09\n",
       "max    1.253973e+09"
      ]
     },
     "execution_count": 8,
     "metadata": {},
     "output_type": "execute_result"
    }
   ],
   "source": [
    "df_numbers.describe()"
   ]
  },
  {
   "cell_type": "code",
   "execution_count": 9,
   "metadata": {},
   "outputs": [
    {
     "data": {
      "text/html": [
       "<div>\n",
       "<style>\n",
       "    .dataframe thead tr:only-child th {\n",
       "        text-align: right;\n",
       "    }\n",
       "\n",
       "    .dataframe thead th {\n",
       "        text-align: left;\n",
       "    }\n",
       "\n",
       "    .dataframe tbody tr th {\n",
       "        vertical-align: top;\n",
       "    }\n",
       "</style>\n",
       "<table border=\"1\" class=\"dataframe\">\n",
       "  <thead>\n",
       "    <tr style=\"text-align: right;\">\n",
       "      <th></th>\n",
       "      <th>Size</th>\n",
       "    </tr>\n",
       "  </thead>\n",
       "  <tbody>\n",
       "    <tr>\n",
       "      <th>count</th>\n",
       "      <td>500</td>\n",
       "    </tr>\n",
       "    <tr>\n",
       "      <th>unique</th>\n",
       "      <td>7</td>\n",
       "    </tr>\n",
       "    <tr>\n",
       "      <th>top</th>\n",
       "      <td>M</td>\n",
       "    </tr>\n",
       "    <tr>\n",
       "      <th>freq</th>\n",
       "      <td>177</td>\n",
       "    </tr>\n",
       "  </tbody>\n",
       "</table>\n",
       "</div>"
      ],
      "text/plain": [
       "       Size\n",
       "count   500\n",
       "unique    7\n",
       "top       M\n",
       "freq    177"
      ]
     },
     "execution_count": 9,
     "metadata": {},
     "output_type": "execute_result"
    }
   ],
   "source": [
    "df_ordinal.describe()"
   ]
  },
  {
   "cell_type": "code",
   "execution_count": 10,
   "metadata": {},
   "outputs": [
    {
     "data": {
      "text/html": [
       "<div>\n",
       "<style>\n",
       "    .dataframe thead tr:only-child th {\n",
       "        text-align: right;\n",
       "    }\n",
       "\n",
       "    .dataframe thead th {\n",
       "        text-align: left;\n",
       "    }\n",
       "\n",
       "    .dataframe tbody tr th {\n",
       "        vertical-align: top;\n",
       "    }\n",
       "</style>\n",
       "<table border=\"1\" class=\"dataframe\">\n",
       "  <thead>\n",
       "    <tr style=\"text-align: right;\">\n",
       "      <th></th>\n",
       "      <th>Rating</th>\n",
       "    </tr>\n",
       "  </thead>\n",
       "  <tbody>\n",
       "    <tr>\n",
       "      <th>count</th>\n",
       "      <td>500.000000</td>\n",
       "    </tr>\n",
       "    <tr>\n",
       "      <th>mean</th>\n",
       "      <td>3.528600</td>\n",
       "    </tr>\n",
       "    <tr>\n",
       "      <th>std</th>\n",
       "      <td>2.005364</td>\n",
       "    </tr>\n",
       "    <tr>\n",
       "      <th>min</th>\n",
       "      <td>0.000000</td>\n",
       "    </tr>\n",
       "    <tr>\n",
       "      <th>25%</th>\n",
       "      <td>3.700000</td>\n",
       "    </tr>\n",
       "    <tr>\n",
       "      <th>50%</th>\n",
       "      <td>4.600000</td>\n",
       "    </tr>\n",
       "    <tr>\n",
       "      <th>75%</th>\n",
       "      <td>4.800000</td>\n",
       "    </tr>\n",
       "    <tr>\n",
       "      <th>max</th>\n",
       "      <td>5.000000</td>\n",
       "    </tr>\n",
       "  </tbody>\n",
       "</table>\n",
       "</div>"
      ],
      "text/plain": [
       "           Rating\n",
       "count  500.000000\n",
       "mean     3.528600\n",
       "std      2.005364\n",
       "min      0.000000\n",
       "25%      3.700000\n",
       "50%      4.600000\n",
       "75%      4.800000\n",
       "max      5.000000"
      ]
     },
     "execution_count": 10,
     "metadata": {},
     "output_type": "execute_result"
    }
   ],
   "source": [
    "df_ratio.describe()"
   ]
  },
  {
   "cell_type": "code",
   "execution_count": 11,
   "metadata": {},
   "outputs": [
    {
     "name": "stdout",
     "output_type": "stream",
     "text": [
      "Mean rating: 3.5286\n",
      "Median rating: 4.6\n",
      "Mode rating: 0.0\n"
     ]
    }
   ],
   "source": [
    "mean_rating = df_ratio[\"Rating\"].mean()\n",
    "median_rating = df_ratio[\"Rating\"].median()\n",
    "mode_rating = df_ratio[\"Rating\"].mode().get(0)\n",
    "print \"Mean rating:\", mean_rating\n",
    "print \"Median rating:\", median_rating\n",
    "print \"Mode rating:\", mode_rating"
   ]
  },
  {
   "cell_type": "code",
   "execution_count": 22,
   "metadata": {},
   "outputs": [
    {
     "data": {
      "image/png": "[encoded data removed]",
      "text/plain": [
       "<matplotlib.figure.Figure at 0x10d3b39d0>"
      ]
     },
     "metadata": {},
     "output_type": "display_data"
    }
   ],
   "source": [
    "# visualize price column\n",
    "fig, ax = plt.subplots(figsize=(15, 5))\n",
    "ax.axvline(mean_rating, color='red', linewidth=5)\n",
    "ax.axvline(median_rating, color='green', linewidth=5)\n",
    "ax.axvline(mode_rating, color='blue', linewidth=5)\n",
    "\n",
    "# Add arrows annotating the means:\n",
    "def add_arrow(label, val, align=\"left\"):\n",
    "    ax.annotate(label + ': {:0.2f}'.format(val), xy=(val, 1), xytext=(15, 15),\n",
    "            xycoords=('data', 'axes fraction'), textcoords='offset points',\n",
    "            horizontalalignment=align, verticalalignment='center',\n",
    "            arrowprops=dict(arrowstyle='-|>', fc='black', shrinkA=0, shrinkB=0,\n",
    "                            connectionstyle='angle,angleA=0,angleB=90,rad=10'),\n",
    "            )\n",
    "\n",
    "add_arrow(\"Mean\", mean_rating)\n",
    "add_arrow(\"Median\", median_rating)\n",
    "add_arrow(\"Mode\", mode_rating)\n",
    "ax.legend(loc='upper left')\n",
    "ax.margins(0.05)\n",
    "\n",
    "plt.hist(df_ratio[\"Rating\"], bins=70)\n",
    "plt.title(\"Rating Histogram\")\n",
    "plt.xlabel(\"Rating\")\n",
    "plt.ylabel(\"Frequency\")\n",
    "plt.show()"
   ]
  },
  {
   "cell_type": "markdown",
   "metadata": {},
   "source": [
    "# Biến đổi của dữ liệu \n",
    "- Khoảng đoạn (range)\n",
    "$$range = maxValue - minValue$$\n",
    "\n",
    "- Phương sai (variance)\n",
    "$$\\sigma^2 = \\frac{\\sum_{i=1}^n (x_i - \\mu)}{n}$$\n",
    "\n",
    "- Độ lệch chuẩn (standard deviation)\n",
    "$$\\sigma = \\sqrt{\\frac{\\sum_{i=1}^n (x_i - \\mu)}{n}}$$\n",
    "\n",
    "- Z-score: biến đổi từ sample mean để thực hiện Z-test\n",
    "    * Shift trung bình mẫu về 0 bằng $X - \\mu$\n",
    "    * Nén độ lệch chuẩn của mẫu ban đầu lại bằng cách chia cho $\\sigma$\n",
    "$$Z = \\frac{X - \\mu}{\\sigma}$$\n",
    "\n",
    "- Phân vị (percentile)\n",
    "$$percentile \\ of \\ x = \\frac{No. value \\ below \\ x}{n} * 100\\\\$$\n",
    "$$quartiles = \\frac{percentile * n}{100}$$"
   ]
  },
  {
   "cell_type": "code",
   "execution_count": 13,
   "metadata": {},
   "outputs": [
    {
     "name": "stdout",
     "output_type": "stream",
     "text": [
      "Min rating: 0.0\n",
      "Max rating: 5.0\n",
      "Rating range: 5.0\n"
     ]
    }
   ],
   "source": [
    "# range of rating\n",
    "min_rating = df_ratio[\"Rating\"].min()\n",
    "max_rating = df_ratio[\"Rating\"].max()\n",
    "range_rating = max_rating - min_rating\n",
    "print \"Min rating:\", min_rating\n",
    "print \"Max rating:\", max_rating\n",
    "print \"Rating range:\", range_rating"
   ]
  },
  {
   "cell_type": "code",
   "execution_count": 14,
   "metadata": {},
   "outputs": [
    {
     "name": "stdout",
     "output_type": "stream",
     "text": [
      "Rating variance: 4.02148501002\n"
     ]
    }
   ],
   "source": [
    "# variance of rating\n",
    "var_rating = df_ratio[\"Rating\"].var()\n",
    "print \"Rating variance:\", var_rating"
   ]
  },
  {
   "cell_type": "code",
   "execution_count": 15,
   "metadata": {},
   "outputs": [
    {
     "name": "stdout",
     "output_type": "stream",
     "text": [
      "Rating standard deviation: 2.00536405922\n"
     ]
    }
   ],
   "source": [
    "# standard deviation of rating\n",
    "std_rating = df_ratio[\"Rating\"].std()\n",
    "print \"Rating standard deviation:\", std_rating"
   ]
  },
  {
   "cell_type": "code",
   "execution_count": 16,
   "metadata": {},
   "outputs": [
    {
     "name": "stdout",
     "output_type": "stream",
     "text": [
      "Rating:\n",
      "0    4.6\n",
      "1    0.0\n",
      "2    0.0\n",
      "3    4.6\n",
      "4    4.5\n",
      "Name: Rating, dtype: float64\n",
      "\n",
      "Z-score of rating:\n"
     ]
    },
    {
     "data": {
      "image/png": "[encoded data removed]",
      "text/plain": [
       "<matplotlib.figure.Figure at 0x10d741950>"
      ]
     },
     "metadata": {},
     "output_type": "display_data"
    }
   ],
   "source": [
    "# z-score of rating\n",
    "z_score_rating = df_ratio[\"Rating\"] - mean_rating / std_rating\n",
    "print \"Rating:\"\n",
    "print df_ratio[\"Rating\"].head(5)\n",
    "\n",
    "print \"\\nZ-score of rating:\"\n",
    "z_score_rating.head(5)\n",
    "\n",
    "hist, bins = np.histogram(z_score_rating)\n",
    "width = 0.7 * (bins[1] - bins[0])\n",
    "center = (bins[:-1] + bins[1:]) / 2\n",
    "\n",
    "# plotting\n",
    "fig = plt.figure(figsize=(15, 5), dpi= 80, facecolor='w', edgecolor='k')\n",
    "plt.bar(center, hist, align='center', width=width)\n",
    "plt.title(\"Z score distribution\")\n",
    "plt.xlabel(\"Rating\")\n",
    "plt.ylabel(\"Frequency\")\n",
    "plt.show()"
   ]
  },
  {
   "cell_type": "code",
   "execution_count": 17,
   "metadata": {},
   "outputs": [
    {
     "name": "stdout",
     "output_type": "stream",
     "text": [
      "25%: 3.7\n",
      "50%: 4.6\n",
      "75%: 4.8\n"
     ]
    }
   ],
   "source": [
    "num_items = df_ratio[\"Rating\"].count()\n",
    "percentile_rating = pd.Series(list(df_ratio[\"Rating\"].sort_values()), index = range(0, num_items))\n",
    "_25_percent = percentile_rating.get(0.25 * num_items)\n",
    "_50_percent = percentile_rating.get(0.5 * num_items)\n",
    "_75_percent = percentile_rating.get(0.75 * num_items)\n",
    "\n",
    "print \"25%:\", _25_percent\n",
    "print \"50%:\", _50_percent\n",
    "print \"75%:\", _75_percent"
   ]
  },
  {
   "cell_type": "markdown",
   "metadata": {},
   "source": [
    "# Xác suất\n",
    "- Xác suất (probability)\n",
    "$$probability = \\frac{event(s)}{outcome(s)}$$\n",
    "\n",
    "- Phép đếm hoán vị (permutation)\n",
    "$$P(n, r) = \\frac{n!}{(n - r)!}\\\\$$\n",
    "$$n: distinct\\ object\\ to\\ choose\\ from$$\n",
    "$$r: spaces\\ to\\ fill.$$\n",
    "\n",
    "- Phép đếm tổ hợp (combination)\n",
    "$$C(n, r) = \\frac{n!}{r!(n - r)!}$$\n",
    "\n",
    "- Xác suất có điều kiện (conditional probability)\n",
    "$$P(B|A) = \\frac{P(A \\cap B)}{P(A)}$$\n",
    "\n",
    "- Biến độc lập và biến phụ thuộc (independent/dependent variable)\n",
    "    - Independent variable: \n",
    "        * Dress_ID\n",
    "        * Style\n",
    "        * Price\n",
    "        * Rating\n",
    "        * Size\n",
    "        * Season\n",
    "        * NeckLine\n",
    "        * SleeveLength\n",
    "        * waiseline\n",
    "        * Material\n",
    "        * FabricType\n",
    "        * Decoration\n",
    "        * Pattern Type\n",
    "    - Dependent variable: Recommendation\n",
    "\n",
    "- Bayes\n",
    "$$P(A|B) = \\frac{P(B|A) P(A)}{P(B)}\\\\$$\n",
    "$$Posterior = \\frac{Likelihood * Prior}{Evidence}$$"
   ]
  },
  {
   "cell_type": "code",
   "execution_count": 18,
   "metadata": {},
   "outputs": [
    {
     "name": "stdout",
     "output_type": "stream",
     "text": [
      "Probability to get rating 4.0: 41.1764705882 %\n"
     ]
    }
   ],
   "source": [
    "# probability to get rating 4.0\n",
    "counter=Counter(df_ratio[\"Rating\"])\n",
    "prob_of_4 = counter[4.0] * 100.0 / len(counter)\n",
    "print \"Probability to get rating 4.0:\", prob_of_4, \"%\""
   ]
  },
  {
   "cell_type": "code",
   "execution_count": 19,
   "metadata": {},
   "outputs": [
    {
     "name": "stdout",
     "output_type": "stream",
     "text": [
      "P(Season:summer) 31.8\n",
      "P(Style:sexy and Season:summer) 4.8\n",
      "P(Style:sexy and Season:summer) 15.0943396226\n"
     ]
    }
   ],
   "source": [
    "# Conditional probability\n",
    "# P(Style:sexy|Season:summer) = P(Style:sexy and Season:summer) / P(Season:summer)\n",
    "df_summer = df[df[\"Season\"] == \"Summer\"][\"Season\"]\n",
    "p_summer = df_summer.count() * 100.0 / num_items\n",
    "\n",
    "df_sexy_summer = df[(df[\"Style\"] == \"Sexy\") & (df[\"Season\"] == \"Summer\")][\"Style\"]\n",
    "p_sexy_summer = df_sexy_summer.count() * 100.0 / num_items\n",
    "\n",
    "p_sexy_given_summer = p_sexy_summer * 100 / p_summer\n",
    "\n",
    "print \"P(Season:summer)\", p_summer\n",
    "print \"P(Style:sexy and Season:summer)\", p_sexy_summer\n",
    "print \"P(Style:sexy and Season:summer)\", p_sexy_given_summer"
   ]
  },
  {
   "cell_type": "code",
   "execution_count": 20,
   "metadata": {},
   "outputs": [
    {
     "name": "stdout",
     "output_type": "stream",
     "text": [
      "P(Style:sexy) 13.8\n",
      "P(Season:summer) 31.8\n",
      "P(Season:summer|Style:sexy) 34.7826086957\n",
      "P(Style:sexy|Season:summer) Bayes: 15.0943396226\n"
     ]
    }
   ],
   "source": [
    "# Bayes\n",
    "# P(Style:sexy|Season:summer) = P(Season:summer|Style:sexy) * P(Style:sexy) / P(Season:summer)\n",
    "df_style = df[df[\"Style\"] == \"Sexy\"][\"Style\"]\n",
    "p_sexy = df_style.count() * 100.0 / num_items\n",
    "\n",
    "p_summer_given_sexy = p_sexy_summer * 100 / p_sexy\n",
    "\n",
    "p_sexy_given_summer_bayes = p_summer_given_sexy * p_sexy / p_summer\n",
    "\n",
    "print \"P(Style:sexy)\", p_sexy\n",
    "print \"P(Season:summer)\", p_summer\n",
    "print \"P(Season:summer|Style:sexy)\", p_summer_given_sexy\n",
    "print \"P(Style:sexy|Season:summer) Bayes:\", p_sexy_given_summer_bayes"
   ]
  },
  {
   "cell_type": "markdown",
   "metadata": {},
   "source": [
    "# Central limit theorem\n",
    "- Dịch thành: Định lý giới hạn trung tâm.\n",
    "- Cho quần thể có phân bố bất kỳ.\n",
    "- Ta thực hiện lấy mẫu nhiều lần trên quần thể cho trước với số lượng xác định.\n",
    "- Mỗi lần lấy mẫu ta đi tính trung bình mẫu\n",
    "- Tổng hợp các trung bình mẫu này lại thành histogram.\n",
    "- Quan sát phân phối của trung bình mẫu của các mẫu ngẫu nhiên, ta thấy đây gần giống với phân phối chuẩn dù cho quần thể ban đầu có phân bố bất kỳ."
   ]
  },
  {
   "cell_type": "code",
   "execution_count": 21,
   "metadata": {},
   "outputs": [
    {
     "data": {
      "image/png": "[encoded data removed]",
      "text/plain": [
       "<matplotlib.figure.Figure at 0x10d8b0510>"
      ]
     },
     "metadata": {},
     "output_type": "display_data"
    }
   ],
   "source": [
    "# Simulating Central limit theorem\n",
    "num_sample = 30\n",
    "num_loop = 1000\n",
    "samp_mean_ls = []\n",
    "\n",
    "for i in range(0, num_loop):\n",
    "    sum_of_sample = 0\n",
    "    samp_idx = np.random.choice(num_items, num_sample, replace=False)\n",
    "    for idx in samp_idx:\n",
    "        sum_of_sample = sum_of_sample + df[\"Rating\"].get(idx)\n",
    "    x_bar = sum_of_sample * 100 / num_items\n",
    "    samp_mean_ls.append(x_bar)\n",
    "    \n",
    "# ploting population\n",
    "fig = plt.figure(figsize=(15, 5), dpi= 80, facecolor='w', edgecolor='k')\n",
    "plt.subplot(1, 2, 1)\n",
    "plt.hist(df_ratio[\"Rating\"], bins=70)\n",
    "plt.title(\"Population distribution: Rating\")\n",
    "plt.xlabel(\"Rating\")\n",
    "plt.ylabel(\"Frequency\")\n",
    "\n",
    "# ploting sampling\n",
    "plt.subplot(1, 2, 2)\n",
    "hist, bins = np.histogram(samp_mean_ls)\n",
    "width = 0.7 * (bins[1] - bins[0])\n",
    "center = (bins[:-1] + bins[1:]) / 2\n",
    "plt.bar(center, hist, align='center', width=width)\n",
    "plt.title(\"Sampling distribution of mean: Rating\")\n",
    "plt.xlabel(\"Sample mean\")\n",
    "plt.show()"
   ]
  }
 ],
 "metadata": {
  "kernelspec": {
   "display_name": "Python 2",
   "language": "python",
   "name": "python2"
  },
  "language_info": {
   "codemirror_mode": {
    "name": "ipython",
    "version": 2
   },
   "file_extension": ".py",
   "mimetype": "text/x-python",
   "name": "python",
   "nbconvert_exporter": "python",
   "pygments_lexer": "ipython2",
   "version": "2.7.10"
  }
 },
 "nbformat": 4,
 "nbformat_minor": 2
}
