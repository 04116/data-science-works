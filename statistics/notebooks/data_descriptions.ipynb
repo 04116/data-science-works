{
 "cells": [
  {
   "cell_type": "markdown",
   "metadata": {},
   "source": [
    "# Các loại dữ liệu\n",
    "Nomial\n",
    "\n",
    "Numbers\n",
    "\n",
    "Odinal\n",
    "\n",
    "Ratio"
   ]
  },
  {
   "cell_type": "markdown",
   "metadata": {},
   "source": [
    "# Trung tâm của tập dữ liệu\n",
    "Trung bình (mean)\n",
    "\n",
    "Trung bình có trọng số (weighted mean)\n",
    "\n",
    "Trung vị (median)\n",
    "\n",
    "Mode"
   ]
  },
  {
   "cell_type": "markdown",
   "metadata": {},
   "source": [
    "# Dữ liệu biến đổi\n",
    "Khoảng đoạn (range)\n",
    "\n",
    "Phương sai (variance)\n",
    "\n",
    "Độ lệch chuẩn (standard deviation)\n",
    "\n",
    "Ngoại lai (outlier)\n",
    "\n",
    "Z-score\n",
    "\n",
    "Nguyên lý thực nghiệm\n",
    "\n",
    "Phân vị (percentile)"
   ]
  },
  {
   "cell_type": "markdown",
   "metadata": {},
   "source": [
    "# Phân bố của xác suất\n",
    "Xác suất (probability)\n",
    "\n",
    "Phép đếm hoán vị (permutation)\n",
    "\n",
    "Phép đếm tổ hợp (combination)\n",
    "\n",
    "Xác suất có điều kiện (conditional probability)\n",
    "\n",
    "Biến ngẫu nhiên (random variable)\n",
    "\n",
    "Biến độc lập và biến phụ thuộc (independent/dependent variable)\n",
    "\n",
    "Bayes"
   ]
  },
  {
   "cell_type": "markdown",
   "metadata": {},
   "source": [
    "# Phân bố xác suất của biến rời rạc (discrete probability distribution)\n",
    "\n",
    "Trung vị (mean)\n",
    "\n",
    "Độ lệch chuẩn (standard deviation)\n",
    "\n",
    "Phân bố nhị phân (binomial distribution)"
   ]
  },
  {
   "cell_type": "markdown",
   "metadata": {},
   "source": [
    "# Phân bố xác suất của biến liên tục (continuous probability distribution)\n",
    "\n",
    "Định lý giới hạn trung tâm (central limit theorem)\n",
    "\n",
    "Phép biến đổi Z"
   ]
  },
  {
   "cell_type": "code",
   "execution_count": null,
   "metadata": {
    "collapsed": true
   },
   "outputs": [],
   "source": []
  }
 ],
 "metadata": {
  "kernelspec": {
   "display_name": "Python 2",
   "language": "python",
   "name": "python2"
  },
  "language_info": {
   "codemirror_mode": {
    "name": "ipython",
    "version": 2
   },
   "file_extension": ".py",
   "mimetype": "text/x-python",
   "name": "python",
   "nbconvert_exporter": "python",
   "pygments_lexer": "ipython2",
   "version": "2.7.10"
  }
 },
 "nbformat": 4,
 "nbformat_minor": 2
}
