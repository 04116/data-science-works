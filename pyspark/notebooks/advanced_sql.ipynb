{
 "cells": [
  {
   "cell_type": "code",
   "execution_count": 1,
   "metadata": {},
   "outputs": [
    {
     "name": "stdout",
     "output_type": "stream",
     "text": [
      "http://localhost:4040/jobs/\n"
     ]
    }
   ],
   "source": [
    "# import libraries\n",
    "from pyspark.sql import SparkSession\n",
    "\n",
    "# view process\n",
    "print \"http://localhost:4040/jobs/\""
   ]
  },
  {
   "cell_type": "code",
   "execution_count": 2,
   "metadata": {},
   "outputs": [],
   "source": [
    "spark = SparkSession.builder \\\n",
    "            .master(\"local[*]\") \\\n",
    "            .appName(\"Advanced SQL\") \\\n",
    "            .getOrCreate()"
   ]
  },
  {
   "cell_type": "code",
   "execution_count": 3,
   "metadata": {},
   "outputs": [],
   "source": [
    "# load data\n",
    "if \"df_cars\" in locals():\n",
    "    df_cars.unpersist()\n",
    "if \"df_makers\" in locals():\n",
    "    df_makers.unpersist()\n",
    "    \n",
    "df_cars = spark.read \\\n",
    "         .format(\"csv\") \\\n",
    "         .option(\"header\", \"true\") \\\n",
    "         .load(\"cars.csv\")\n",
    "            \n",
    "df_makers = spark.read \\\n",
    "         .format(\"csv\") \\\n",
    "         .option(\"header\", \"true\") \\\n",
    "         .load(\"makers.csv\")        \n",
    "            \n",
    "# store as table\n",
    "df_cars.cache()\n",
    "df_makers.cache()\n",
    "sqlContext.registerDataFrameAsTable(df_cars, \"car\")\n",
    "sqlContext.registerDataFrameAsTable(df_makers, \"maker\")"
   ]
  },
  {
   "cell_type": "code",
   "execution_count": 4,
   "metadata": {},
   "outputs": [
    {
     "name": "stdout",
     "output_type": "stream",
     "text": [
      "# Cars schema\n",
      "root\n",
      " |-- id: string (nullable = true)\n",
      " |-- car_name: string (nullable = true)\n",
      " |-- price: string (nullable = true)\n",
      " |-- maker_id: string (nullable = true)\n",
      "\n",
      "+---+------------+-------+--------+\n",
      "| id|    car_name|  price|maker_id|\n",
      "+---+------------+-------+--------+\n",
      "|  1|          X5|5616.38|       2|\n",
      "|  2|     Compass| 1837.4|       7|\n",
      "|  3|   Excursion|1949.55|       2|\n",
      "|  4|    Escalade|8539.64|       3|\n",
      "|  5|Express 3500|2685.09|       4|\n",
      "+---+------------+-------+--------+\n",
      "only showing top 5 rows\n",
      "\n",
      "# Makers schema\n",
      "root\n",
      " |-- id: string (nullable = true)\n",
      " |-- maker_name: string (nullable = true)\n",
      " |-- years: string (nullable = true)\n",
      "\n",
      "+---+----------+-----+\n",
      "| id|maker_name|years|\n",
      "+---+----------+-----+\n",
      "|  1|   Porsche| 2011|\n",
      "|  2|    Nissan| 2011|\n",
      "|  3|     Dodge| 2008|\n",
      "|  4|  Cadillac| 2006|\n",
      "|  5|Land Rover| 2011|\n",
      "+---+----------+-----+\n",
      "only showing top 5 rows\n",
      "\n"
     ]
    }
   ],
   "source": [
    "# view schema and top data\n",
    "print \"# Cars schema\"\n",
    "df_cars.printSchema()\n",
    "df_cars.show(5)\n",
    "\n",
    "print \"# Makers schema\"\n",
    "df_makers.printSchema()\n",
    "df_makers.show(5)"
   ]
  },
  {
   "cell_type": "markdown",
   "metadata": {},
   "source": [
    "# Truy vấn lồng\n",
    "Truy vấn lồng là một câu truy vấn mà ở bên trong nội dung của nó có chứa một câu truy vấn con khác.\n",
    "- Truy vấn lồng phân cấp: Khi nội dung của câu truy vấn con độc lập với câu truy vấn cha.\n",
    "- Truy vấn lồng tương quan: Khi nội dung của câu truy vấn con phụ thuộc vào câu truy vấn cha.\n",
    "\n",
    "## Đặt tại mệnh đề SELECT\n",
    "Kết quả của câu truy vấn sẽ như là một giá trị của một thuộc tính."
   ]
  },
  {
   "cell_type": "code",
   "execution_count": 5,
   "metadata": {},
   "outputs": [
    {
     "name": "stdout",
     "output_type": "stream",
     "text": [
      "+----------+-----+\n",
      "|   Hang_Xe|SL_XE|\n",
      "+----------+-----+\n",
      "|   Porsche|   91|\n",
      "|    Nissan|  116|\n",
      "|     Dodge|   98|\n",
      "|  Cadillac|  104|\n",
      "|Land Rover|   82|\n",
      "|     Mazda|  101|\n",
      "|     Isuzu|  100|\n",
      "|   Hyundai|  109|\n",
      "|   Hyundai|   96|\n",
      "| Chevrolet|  103|\n",
      "+----------+-----+\n",
      "\n"
     ]
    }
   ],
   "source": [
    "# Với mỗi hãng xe, cho biết tên của hãng và số lượng xe tương ứng\n",
    "df_sub_queries = sqlContext.sql(\"\"\"\n",
    "    SELECT maker_name AS Hang_Xe, (\n",
    "        SELECT COUNT(*)\n",
    "        FROM car\n",
    "        WHERE car.maker_id = maker.id\n",
    "    ) AS SL_XE\n",
    "    FROM maker\n",
    "\"\"\")\n",
    "df_sub_queries.show()"
   ]
  },
  {
   "cell_type": "markdown",
   "metadata": {},
   "source": [
    "## Đặt tại mệnh đề FROM:\n",
    "Kết quả của câu truy vấn sẽ xem như là một bảng dữ liệu, do vậy có thể truy vấn từ bảng dữ liệu này."
   ]
  },
  {
   "cell_type": "code",
   "execution_count": 6,
   "metadata": {
    "scrolled": true
   },
   "outputs": [
    {
     "name": "stdout",
     "output_type": "stream",
     "text": [
      "+---------+---------+\n",
      "| car_name|price_usd|\n",
      "+---------+---------+\n",
      "|       X5|  5616.38|\n",
      "|Excursion|  1949.55|\n",
      "|   Tacoma|  5696.24|\n",
      "|    Tahoe|  7247.84|\n",
      "|  M-Class|  8541.21|\n",
      "+---------+---------+\n",
      "only showing top 5 rows\n",
      "\n"
     ]
    }
   ],
   "source": [
    "# Cho biết tên và giá mỗi xe của hãng Nissan\n",
    "df_sub_queries = sqlContext.sql(\"\"\"\n",
    "    SELECT T.car_name, T.price AS price_usd\n",
    "    FROM (\n",
    "        SELECT *\n",
    "        FROM car\n",
    "        WHERE maker_id = 2\n",
    "    ) AS T\n",
    "\"\"\")\n",
    "df_sub_queries.show(5)"
   ]
  },
  {
   "cell_type": "markdown",
   "metadata": {},
   "source": [
    "## Đặt tại mệnh đề WHERE:\n",
    "Kết quả của câu truy vấn được sử dụng như một thành phần trong biểu thức điều kiện."
   ]
  },
  {
   "cell_type": "code",
   "execution_count": 7,
   "metadata": {
    "scrolled": true
   },
   "outputs": [
    {
     "name": "stdout",
     "output_type": "stream",
     "text": [
      "+--------+-------+\n",
      "|car_name|  price|\n",
      "+--------+-------+\n",
      "|      X5|5616.38|\n",
      "|Escalade|8539.64|\n",
      "|  Virage|6297.87|\n",
      "|    RX-8|7033.46|\n",
      "| Caravan|3101.49|\n",
      "+--------+-------+\n",
      "only showing top 5 rows\n",
      "\n"
     ]
    }
   ],
   "source": [
    "# Cho biết những xe có giá lớn hơn xe có mã = 5\n",
    "df_sub_queries = sqlContext.sql(\"\"\"\n",
    "    SELECT car_name, price\n",
    "    FROM car\n",
    "    WHERE price > (\n",
    "        SELECT price\n",
    "        FROM car\n",
    "        WHERE id = 5\n",
    "    )\n",
    "\"\"\")\n",
    "df_sub_queries.show(5)"
   ]
  },
  {
   "cell_type": "markdown",
   "metadata": {},
   "source": [
    "## Truy vấn lồng phân cấp với toán tử IN\n",
    "Toán tử IN dùng để kiểm tra một giá trị có nằm trong một tập hợp nào đó hay không. Tập hợp đó có thể là kết quả của một câu truy vấn hoặc một tập hợp tường minh"
   ]
  },
  {
   "cell_type": "code",
   "execution_count": 8,
   "metadata": {
    "scrolled": true
   },
   "outputs": [
    {
     "name": "stdout",
     "output_type": "stream",
     "text": [
      "+------------+-------+\n",
      "|    car_name|  price|\n",
      "+------------+-------+\n",
      "|     Compass| 1837.4|\n",
      "|   Excursion|1949.55|\n",
      "|Express 3500|2685.09|\n",
      "|   Fleetwood|1016.99|\n",
      "|   Cabriolet|1185.46|\n",
      "+------------+-------+\n",
      "only showing top 5 rows\n",
      "\n"
     ]
    }
   ],
   "source": [
    "# Cho biết các xe có giá nhỏ hơn 3000 USD\n",
    "df_sub_queries = sqlContext.sql(\"\"\"\n",
    "    SELECT car_name, price\n",
    "    FROM car\n",
    "    WHERE id NOT IN (\n",
    "        SELECT id\n",
    "        FROM car\n",
    "        WHERE price > 3000\n",
    "    )\n",
    "\"\"\")\n",
    "df_sub_queries.show(5)"
   ]
  },
  {
   "cell_type": "markdown",
   "metadata": {},
   "source": [
    "## Truy vấn lồng tương quan với EXISTS"
   ]
  },
  {
   "cell_type": "code",
   "execution_count": 9,
   "metadata": {},
   "outputs": [
    {
     "name": "stdout",
     "output_type": "stream",
     "text": [
      "+------------+\n",
      "|    car_name|\n",
      "+------------+\n",
      "|          X5|\n",
      "|     Compass|\n",
      "|   Excursion|\n",
      "|    Escalade|\n",
      "|Express 3500|\n",
      "+------------+\n",
      "only showing top 5 rows\n",
      "\n"
     ]
    }
   ],
   "source": [
    "# Tìm xe không phải hãng Nissan\n",
    "df_sub_queries = sqlContext.sql(\"\"\"\n",
    "    SELECT car_name\n",
    "    FROM car\n",
    "    WHERE NOT EXISTS (\n",
    "        SELECT *\n",
    "        FROM maker\n",
    "        WHERE car.maker_id = maker.id\n",
    "        AND maker.id = 5\n",
    "    )\n",
    "\"\"\")\n",
    "df_sub_queries.show(5)"
   ]
  },
  {
   "cell_type": "markdown",
   "metadata": {},
   "source": [
    "## Ví dụ khác về truy vấn lồng tương quan"
   ]
  },
  {
   "cell_type": "code",
   "execution_count": 10,
   "metadata": {},
   "outputs": [
    {
     "name": "stdout",
     "output_type": "stream",
     "text": [
      "+--------+-------+\n",
      "|car_name|  price|\n",
      "+--------+-------+\n",
      "|      X5|5616.38|\n",
      "|Escalade|8539.64|\n",
      "|  Virage|6297.87|\n",
      "|    RX-8|7033.46|\n",
      "|      X3|9361.88|\n",
      "+--------+-------+\n",
      "only showing top 5 rows\n",
      "\n"
     ]
    }
   ],
   "source": [
    "# Cho biết các xe có giá lớn hơn giá trung bình của hãng xe đó sản xuất\n",
    "df_sub_queries = sqlContext.sql(\"\"\"\n",
    "    SELECT car_name, price\n",
    "    FROM car AS car1\n",
    "    WHERE car1.price > (\n",
    "        SELECT AVG(car2.price)\n",
    "        FROM car AS car2\n",
    "        WHERE car2.maker_id = car1.maker_id\n",
    "    )\n",
    "\"\"\")\n",
    "df_sub_queries.show(5)"
   ]
  },
  {
   "cell_type": "code",
   "execution_count": 11,
   "metadata": {},
   "outputs": [
    {
     "name": "stdout",
     "output_type": "stream",
     "text": [
      "+--------+-------+\n",
      "|car_name|  price|\n",
      "+--------+-------+\n",
      "|     100|9986.79|\n",
      "+--------+-------+\n",
      "\n"
     ]
    }
   ],
   "source": [
    "# Cho biết các xe có giá cao nhất\n",
    "df_sub_queries = sqlContext.sql(\"\"\"\n",
    "    SELECT car_name, price\n",
    "    FROM car\n",
    "    WHERE price = (\n",
    "        SELECT MAX(price)\n",
    "        FROM car\n",
    "    )\n",
    "\"\"\")\n",
    "df_sub_queries.show(5)"
   ]
  },
  {
   "cell_type": "code",
   "execution_count": 12,
   "metadata": {},
   "outputs": [
    {
     "name": "stdout",
     "output_type": "stream",
     "text": [
      "+--------+\n",
      "|maker_id|\n",
      "+--------+\n",
      "|       2|\n",
      "+--------+\n",
      "\n"
     ]
    }
   ],
   "source": [
    "# Cho biết các hãng sản xuất nhiều xe nhất\n",
    "df_sub_queries = sqlContext.sql(\"\"\"\n",
    "    SELECT maker_id\n",
    "    FROM car\n",
    "    GROUP BY maker_id\n",
    "    HAVING COUNT(*) = (\n",
    "        SELECT MAX(SL_XE)\n",
    "        FROM (\n",
    "            SELECT COUNT(*) AS SL_XE\n",
    "            FROM car\n",
    "            GROUP BY maker_id\n",
    "        )\n",
    "    )\n",
    "\"\"\")\n",
    "df_sub_queries.show(5)"
   ]
  },
  {
   "cell_type": "markdown",
   "metadata": {},
   "source": [
    "# Truy vấn khác"
   ]
  },
  {
   "cell_type": "code",
   "execution_count": 13,
   "metadata": {},
   "outputs": [
    {
     "name": "stdout",
     "output_type": "stream",
     "text": [
      "+------------+-------+----------+-----+\n",
      "|    car_name|  price|maker_name|years|\n",
      "+------------+-------+----------+-----+\n",
      "|          X5|5616.38|    Nissan| 2011|\n",
      "|     Compass| 1837.4|     Isuzu| 1998|\n",
      "|   Excursion|1949.55|    Nissan| 2011|\n",
      "|    Escalade|8539.64|     Dodge| 2008|\n",
      "|Express 3500|2685.09|  Cadillac| 2006|\n",
      "+------------+-------+----------+-----+\n",
      "only showing top 5 rows\n",
      "\n"
     ]
    }
   ],
   "source": [
    "# create inventory by joining cars and makers\n",
    "if \"df_inventory\" in locals():\n",
    "    df_inventory.unpersist()\n",
    "    \n",
    "df_inventory = sqlContext.sql(\"\"\"\n",
    "    SELECT car_name, price, maker_name, years\n",
    "    FROM car\n",
    "    JOIN maker\n",
    "    ON car.maker_id = maker.id\n",
    "\"\"\")\n",
    "df_inventory.show(5)\n",
    "\n",
    "# store as table\n",
    "df_inventory.cache()\n",
    "sqlContext.registerDataFrameAsTable(df_inventory, \"inventory\")"
   ]
  },
  {
   "cell_type": "markdown",
   "metadata": {},
   "source": [
    "## Tổng hợp sử dụng CUBE"
   ]
  },
  {
   "cell_type": "code",
   "execution_count": 14,
   "metadata": {
    "scrolled": true
   },
   "outputs": [
    {
     "name": "stdout",
     "output_type": "stream",
     "text": [
      "+--------+----------+------------------+\n",
      "|car_name|maker_name|        TotalPrice|\n",
      "+--------+----------+------------------+\n",
      "|  Ranger|Land Rover|            7535.8|\n",
      "| Durango|   Hyundai|           4750.66|\n",
      "| Outback|     Isuzu|           5449.95|\n",
      "|    350Z|     Dodge|           5936.84|\n",
      "|3 Series|   Porsche|          10210.57|\n",
      "|     MR2|Land Rover|           4468.72|\n",
      "|    null|  Cadillac| 544548.9600000001|\n",
      "|      TT|      null|7733.4400000000005|\n",
      "| Chariot|      null|           7867.58|\n",
      "|E-Series| Chevrolet|11777.220000000001|\n",
      "+--------+----------+------------------+\n",
      "only showing top 10 rows\n",
      "\n"
     ]
    }
   ],
   "source": [
    "# Tổng hợp tổng giá trị của các xe theo:\n",
    "# - Tên xe và tên hãng\n",
    "# - Từng tên xe\n",
    "# - Từng hãng\n",
    "# - Tổng giá trị\n",
    "\n",
    "# Output:\n",
    "# - Ranger, Land Rover, 7535.8: tổng giá trị xe Ranger, hãng Land Rover là 7535.8\n",
    "# - Chariot, null, 7867.58: tổng giá trị xe Chariot, hãng bất kỳ là 7867.58\n",
    "# - null, null, 5396393.689999999: tổng giá trị các xe từ các hãng là 5396393.689999999\n",
    "# - null, Cadillac, 544548.9600000001: tổng giá trị từ hãng Cadillac là 544548.9600000001\n",
    "\n",
    "df_compute = sqlContext.sql(\"\"\"\n",
    "    SELECT car_name, maker_name, SUM(price) AS TotalPrice\n",
    "    FROM inventory\n",
    "    GROUP BY car_name, maker_name WITH CUBE\n",
    "\"\"\")\n",
    "df_compute.show(10)"
   ]
  },
  {
   "cell_type": "markdown",
   "metadata": {},
   "source": [
    "## Tổng hợp sử dụng ROLLUP"
   ]
  },
  {
   "cell_type": "code",
   "execution_count": 15,
   "metadata": {},
   "outputs": [
    {
     "name": "stdout",
     "output_type": "stream",
     "text": [
      "+------------+----------+------------------+\n",
      "|    car_name|maker_name|        TotalPrice|\n",
      "+------------+----------+------------------+\n",
      "|      Ranger|Land Rover|            7535.8|\n",
      "|     Durango|   Hyundai|           4750.66|\n",
      "|     Outback|     Isuzu|           5449.95|\n",
      "|        350Z|     Dodge|           5936.84|\n",
      "|    3 Series|   Porsche|          10210.57|\n",
      "|         MR2|Land Rover|           4468.72|\n",
      "|          TT|      null|7733.4400000000005|\n",
      "|     Chariot|      null|           7867.58|\n",
      "|    E-Series| Chevrolet|11777.220000000001|\n",
      "|Express 3500|   Porsche| 8971.060000000001|\n",
      "+------------+----------+------------------+\n",
      "only showing top 10 rows\n",
      "\n"
     ]
    }
   ],
   "source": [
    "# Tổng hợp tổng giá trị của các xe theo:\n",
    "# - Tên xe và tên hãng\n",
    "# - Từng tên xe\n",
    "# - Tổng giá trị\n",
    "\n",
    "# Output:\n",
    "# - Ranger, Land Rover, 7535.8: tổng giá trị xe Ranger, hãng Land Rover là 7535.8\n",
    "# - Chariot, null, 7867.58: tổng giá trị xe Chariot, hãng bất kỳ là 7867.58\n",
    "# - null, null, 5396393.689999999: tổng giá trị các xe từ các hãng là 5396393.689999999\n",
    "\n",
    "df_compute = sqlContext.sql(\"\"\"\n",
    "    SELECT car_name, maker_name, SUM(price) AS TotalPrice\n",
    "    FROM inventory\n",
    "    GROUP BY car_name, maker_name WITH ROLLUP\n",
    "\"\"\")\n",
    "df_compute.show(10)"
   ]
  },
  {
   "cell_type": "code",
   "execution_count": null,
   "metadata": {
    "collapsed": true
   },
   "outputs": [],
   "source": []
  }
 ],
 "metadata": {
  "kernelspec": {
   "display_name": "Python 2",
   "language": "python",
   "name": "python2"
  },
  "language_info": {
   "codemirror_mode": {
    "name": "ipython",
    "version": 2
   },
   "file_extension": ".py",
   "mimetype": "text/x-python",
   "name": "python",
   "nbconvert_exporter": "python",
   "pygments_lexer": "ipython2",
   "version": "2.7.10"
  }
 },
 "nbformat": 4,
 "nbformat_minor": 2
}
