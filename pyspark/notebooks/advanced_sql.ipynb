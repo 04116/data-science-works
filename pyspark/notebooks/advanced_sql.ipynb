{
 "cells": [
  {
   "cell_type": "code",
   "execution_count": 1,
   "metadata": {},
   "outputs": [
    {
     "name": "stdout",
     "output_type": "stream",
     "text": [
      "http://localhost:4040/jobs/\n"
     ]
    }
   ],
   "source": [
    "# import libraries\n",
    "from pyspark.sql import SparkSession\n",
    "\n",
    "# view process\n",
    "print \"http://localhost:4040/jobs/\""
   ]
  },
  {
   "cell_type": "code",
   "execution_count": 2,
   "metadata": {},
   "outputs": [],
   "source": [
    "spark = SparkSession.builder \\\n",
    "            .master(\"local[*]\") \\\n",
    "            .appName(\"Advanced SQL\") \\\n",
    "            .getOrCreate()"
   ]
  },
  {
   "cell_type": "code",
   "execution_count": 10,
   "metadata": {},
   "outputs": [],
   "source": [
    "# load data\n",
    "df_cars = spark.read \\\n",
    "         .format(\"csv\") \\\n",
    "         .option(\"header\", \"true\") \\\n",
    "         .load(\"cars.csv\")\n",
    "            \n",
    "df_makers = spark.read \\\n",
    "         .format(\"csv\") \\\n",
    "         .option(\"header\", \"true\") \\\n",
    "         .load(\"makers.csv\")        \n",
    "            \n",
    "# store as table\n",
    "sqlContext.registerDataFrameAsTable(df_cars, \"car\")\n",
    "sqlContext.registerDataFrameAsTable(df_makers, \"maker\")"
   ]
  },
  {
   "cell_type": "code",
   "execution_count": 11,
   "metadata": {},
   "outputs": [
    {
     "name": "stdout",
     "output_type": "stream",
     "text": [
      "Cars schema\n",
      "root\n",
      " |-- id: string (nullable = true)\n",
      " |-- car_name: string (nullable = true)\n",
      " |-- price: string (nullable = true)\n",
      " |-- maker_id: string (nullable = true)\n",
      "\n",
      "+---+------------+-------+--------+\n",
      "| id|    car_name|  price|maker_id|\n",
      "+---+------------+-------+--------+\n",
      "|  1|          X5|5616.38|       2|\n",
      "|  2|     Compass| 1837.4|       7|\n",
      "|  3|   Excursion|1949.55|       2|\n",
      "|  4|    Escalade|8539.64|       3|\n",
      "|  5|Express 3500|2685.09|       4|\n",
      "+---+------------+-------+--------+\n",
      "only showing top 5 rows\n",
      "\n",
      "Makers schema\n",
      "root\n",
      " |-- id: string (nullable = true)\n",
      " |-- maker_name: string (nullable = true)\n",
      " |-- years: string (nullable = true)\n",
      "\n",
      "+---+----------+-----+\n",
      "| id|maker_name|years|\n",
      "+---+----------+-----+\n",
      "|  1|   Porsche| 2011|\n",
      "|  2|    Nissan| 2011|\n",
      "|  3|     Dodge| 2008|\n",
      "|  4|  Cadillac| 2006|\n",
      "|  5|Land Rover| 2011|\n",
      "+---+----------+-----+\n",
      "only showing top 5 rows\n",
      "\n"
     ]
    }
   ],
   "source": [
    "# view schema and top data\n",
    "print \"Cars schema\"\n",
    "df_cars.printSchema()\n",
    "df_cars.show(5)\n",
    "\n",
    "print \"Makers schema\"\n",
    "df_makers.printSchema()\n",
    "df_makers.show(5)"
   ]
  },
  {
   "cell_type": "markdown",
   "metadata": {},
   "source": [
    "# Truy vấn lồng\n",
    "Truy vấn lồng là một câu truy vấn mà ở bên trong nội dung của nó có chứa một câu truy vấn con khác.\n",
    "- Truy vấn lồng phân cấp: Khi nội dung của câu truy vấn con độc lập với câu truy vấn cha.\n",
    "- Truy vấn lồng tương quan: Khi nội dung của câu truy vấn con phụ thuộc vào câu truy vấn cha.\n",
    "\n",
    "## Đặt tại mệnh đề SELECT\n",
    "Kết quả của câu truy vấn sẽ như là một giá trị của một thuộc tính."
   ]
  },
  {
   "cell_type": "code",
   "execution_count": 14,
   "metadata": {},
   "outputs": [
    {
     "name": "stdout",
     "output_type": "stream",
     "text": [
      "+----------+-----+\n",
      "|   Hang_Xe|SL_XE|\n",
      "+----------+-----+\n",
      "|   Porsche|   91|\n",
      "|    Nissan|  116|\n",
      "|     Dodge|   98|\n",
      "|  Cadillac|  104|\n",
      "|Land Rover|   82|\n",
      "|     Mazda|  101|\n",
      "|     Isuzu|  100|\n",
      "|   Hyundai|  109|\n",
      "|   Hyundai|   96|\n",
      "| Chevrolet|  103|\n",
      "+----------+-----+\n",
      "\n"
     ]
    }
   ],
   "source": [
    "# Với mỗi hãng xe, cho biết tên của hãng và số lượng xe tương ứng\n",
    "df_sub_queries = sqlContext.sql(\"\"\"\n",
    "    SELECT maker_name AS Hang_Xe, (\n",
    "        SELECT COUNT(*)\n",
    "        FROM car\n",
    "        WHERE car.maker_id = maker.id\n",
    "    ) AS SL_XE\n",
    "    FROM maker\n",
    "\"\"\")\n",
    "df_sub_queries.show()"
   ]
  },
  {
   "cell_type": "markdown",
   "metadata": {},
   "source": [
    "## Đặt tại mệnh đề FROM:\n",
    "Kết quả của câu truy vấn sẽ xem như là một bảng dữ liệu, do vậy có thể truy vấn từ bảng dữ liệu này."
   ]
  },
  {
   "cell_type": "code",
   "execution_count": null,
   "metadata": {
    "collapsed": true
   },
   "outputs": [],
   "source": [
    "# Cho biết tên và giá của mẫu xe"
   ]
  }
 ],
 "metadata": {
  "kernelspec": {
   "display_name": "Python 2",
   "language": "python",
   "name": "python2"
  },
  "language_info": {
   "codemirror_mode": {
    "name": "ipython",
    "version": 2
   },
   "file_extension": ".py",
   "mimetype": "text/x-python",
   "name": "python",
   "nbconvert_exporter": "python",
   "pygments_lexer": "ipython2",
   "version": "2.7.10"
  }
 },
 "nbformat": 4,
 "nbformat_minor": 2
}
