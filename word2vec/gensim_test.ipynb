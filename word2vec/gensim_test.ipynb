{
 "cells": [
  {
   "cell_type": "code",
   "execution_count": 1,
   "metadata": {
    "collapsed": true
   },
   "outputs": [],
   "source": [
    "# -*- coding: utf-8 -*-\n",
    "# import libraries\n",
    "import os, logging\n",
    "from gensim.models import Word2Vec\n",
    "logging.basicConfig(format='%(asctime)s : %(levelname)s : %(message)s', level=logging.INFO)"
   ]
  },
  {
   "cell_type": "code",
   "execution_count": 2,
   "metadata": {
    "collapsed": true
   },
   "outputs": [],
   "source": [
    "# read sentences\n",
    "class MySentences(object):\n",
    "    def __init__(self, dirname):\n",
    "        self.dirname = dirname\n",
    " \n",
    "    def __iter__(self):\n",
    "        for fname in os.listdir(self.dirname):\n",
    "            for line in open(os.path.join(self.dirname, fname)):\n",
    "                yield line.split()\n",
    " \n",
    "sentences = MySentences(\"data\")"
   ]
  },
  {
   "cell_type": "code",
   "execution_count": 3,
   "metadata": {},
   "outputs": [
    {
     "name": "stderr",
     "output_type": "stream",
     "text": [
      "2017-09-18 15:55:55,940 : INFO : collecting all words and their counts\n",
      "2017-09-18 15:55:55,941 : INFO : PROGRESS: at sentence #0, processed 0 words, keeping 0 word types\n",
      "2017-09-18 15:55:55,942 : INFO : collected 236 word types from a corpus of 441 raw words and 17 sentences\n",
      "2017-09-18 15:55:55,942 : INFO : Loading a fresh vocabulary\n",
      "2017-09-18 15:55:55,943 : INFO : min_count=5 retains 14 unique words (5% of original 236, drops 222)\n",
      "2017-09-18 15:55:55,944 : INFO : min_count=5 leaves 126 word corpus (28% of original 441, drops 315)\n",
      "2017-09-18 15:55:55,945 : INFO : deleting the raw counts dictionary of 236 items\n",
      "2017-09-18 15:55:55,945 : INFO : sample=0.001 downsamples 14 most-common words\n",
      "2017-09-18 15:55:55,946 : INFO : downsampling leaves estimated 16 word corpus (12.9% of prior 126)\n",
      "2017-09-18 15:55:55,947 : INFO : estimated required memory for 14 words and 100 dimensions: 18200 bytes\n",
      "2017-09-18 15:55:55,948 : INFO : resetting layer weights\n",
      "2017-09-18 15:55:55,949 : INFO : training model with 4 workers on 14 vocabulary and 100 features, using sg=0 hs=0 sample=0.001 negative=5 window=5\n",
      "2017-09-18 15:55:55,952 : INFO : worker thread finished; awaiting finish of 3 more threads\n",
      "2017-09-18 15:55:55,953 : INFO : worker thread finished; awaiting finish of 2 more threads\n",
      "2017-09-18 15:55:55,953 : INFO : worker thread finished; awaiting finish of 1 more threads\n",
      "2017-09-18 15:55:55,954 : INFO : worker thread finished; awaiting finish of 0 more threads\n",
      "2017-09-18 15:55:55,955 : INFO : training on 2205 raw words (71 effective words) took 0.0s, 14786 effective words/s\n",
      "2017-09-18 15:55:55,956 : WARNING : under 10 jobs per worker: consider setting a smaller `batch_words' for smoother alpha decay\n",
      "2017-09-18 15:55:55,956 : INFO : saving Word2Vec object under models/first_model, separately None\n",
      "2017-09-18 15:55:55,957 : INFO : not storing attribute syn0norm\n",
      "2017-09-18 15:55:55,958 : INFO : not storing attribute cum_table\n",
      "2017-09-18 15:55:55,959 : INFO : saved models/first_model\n"
     ]
    }
   ],
   "source": [
    "model = Word2Vec(sentences, size=100, window=5, min_count=5, workers=4)\n",
    "model.save(\"models/first_model\")"
   ]
  },
  {
   "cell_type": "code",
   "execution_count": 4,
   "metadata": {},
   "outputs": [
    {
     "name": "stderr",
     "output_type": "stream",
     "text": [
      "2017-09-18 15:55:55,964 : INFO : loading Word2Vec object from models/first_model\n",
      "2017-09-18 15:55:55,965 : INFO : loading wv recursively from models/first_model.wv.* with mmap=None\n",
      "2017-09-18 15:55:55,966 : INFO : setting ignored attribute syn0norm to None\n",
      "2017-09-18 15:55:55,966 : INFO : setting ignored attribute cum_table to None\n",
      "2017-09-18 15:55:55,967 : INFO : loaded models/first_model\n"
     ]
    }
   ],
   "source": [
    "new_model = Word2Vec.load(\"models/first_model\")"
   ]
  },
  {
   "cell_type": "code",
   "execution_count": 5,
   "metadata": {},
   "outputs": [
    {
     "name": "stdout",
     "output_type": "stream",
     "text": [
      "T�nh\n"
     ]
    }
   ],
   "source": [
    "u = \"T\\xc3\\xadnh\"\n",
    "uu = u.decode('utf8')\n",
    "s = uu.encode('cp1250')\n",
    "print(s)"
   ]
  },
  {
   "cell_type": "code",
   "execution_count": 6,
   "metadata": {},
   "outputs": [
    {
     "data": {
      "text/plain": [
       "{',': <gensim.models.keyedvectors.Vocab at 0x10ecc3090>,\n",
       " '-': <gensim.models.keyedvectors.Vocab at 0x10c441650>,\n",
       " '.': <gensim.models.keyedvectors.Vocab at 0x10ecc3590>,\n",
       " 'bi\\xe1\\xbb\\x83n': <gensim.models.keyedvectors.Vocab at 0x10ecc30d0>,\n",
       " 'ch\\xc3\\xacm': <gensim.models.keyedvectors.Vocab at 0x10c441d90>,\n",
       " 'ch\\xe1\\xbb\\x9f': <gensim.models.keyedvectors.Vocab at 0x10c441e10>,\n",
       " 'c\\xc3\\xa1c': <gensim.models.keyedvectors.Vocab at 0x10ecc3450>,\n",
       " 'h\\xc3\\xa0ng_h\\xc3\\xb3a': <gensim.models.keyedvectors.Vocab at 0x10ecc3690>,\n",
       " 'n\\xc3\\xa0y': <gensim.models.keyedvectors.Vocab at 0x10c441dd0>,\n",
       " 'ph\\xc3\\xa0': <gensim.models.keyedvectors.Vocab at 0x10c441cd0>,\n",
       " 'tr\\xc3\\xaan': <gensim.models.keyedvectors.Vocab at 0x10ecc3510>,\n",
       " 't\\xe1\\xba\\xa5n': <gensim.models.keyedvectors.Vocab at 0x10ecc3050>,\n",
       " '\\xc4\\x91\\xc6\\xb0\\xe1\\xbb\\xa3c': <gensim.models.keyedvectors.Vocab at 0x10ecc3190>,\n",
       " '\\xc4\\x91\\xe1\\xba\\xbfn': <gensim.models.keyedvectors.Vocab at 0x10ecc3a50>}"
      ]
     },
     "execution_count": 6,
     "metadata": {},
     "output_type": "execute_result"
    }
   ],
   "source": [
    "new_model.wv.vocab"
   ]
  },
  {
   "cell_type": "code",
   "execution_count": null,
   "metadata": {
    "collapsed": true
   },
   "outputs": [],
   "source": []
  }
 ],
 "metadata": {
  "kernelspec": {
   "display_name": "Python 2",
   "language": "python",
   "name": "python2"
  },
  "language_info": {
   "codemirror_mode": {
    "name": "ipython",
    "version": 2
   },
   "file_extension": ".py",
   "mimetype": "text/x-python",
   "name": "python",
   "nbconvert_exporter": "python",
   "pygments_lexer": "ipython2",
   "version": "2.7.10"
  }
 },
 "nbformat": 4,
 "nbformat_minor": 2
}
